{
  "cells": [
    {
      "cell_type": "markdown",
      "metadata": {
        "id": "uadWszFL8KYt"
      },
      "source": [
        "### Logistic Regression"
      ]
    },
    {
      "cell_type": "code",
      "execution_count": null,
      "metadata": {
        "colab": {
          "base_uri": "https://localhost:8080/"
        },
        "id": "YJ_kvOA0QErG",
        "outputId": "019db74d-888a-4668-a108-3e41fc4947b9"
      },
      "outputs": [
        {
          "output_type": "stream",
          "name": "stdout",
          "text": [
            "Mounted at /content/drive\n"
          ]
        }
      ],
      "source": [
        "from google.colab import drive\n",
        "drive.mount('/content/drive')"
      ]
    },
    {
      "cell_type": "code",
      "execution_count": null,
      "metadata": {
        "id": "pAPVJtlC8KYv"
      },
      "outputs": [],
      "source": [
        "from sklearn.preprocessing import StandardScaler\n",
        "scaler = StandardScaler()\n",
        "from sklearn.preprocessing import KBinsDiscretizer\n",
        "discretizer = KBinsDiscretizer()"
      ]
    },
    {
      "cell_type": "code",
      "execution_count": null,
      "metadata": {
        "id": "-_gX1k868KYw"
      },
      "outputs": [],
      "source": [
        "import numpy as np\n",
        "import pandas as pd\n",
        "df_processed = pd.read_csv(\"/content/drive/Shareddrives/응머러러/df_merged_new.csv\")\n",
        "\n",
        "import re\n",
        "def reprocess(text):\n",
        "    return re.sub(r'[^\\s\\d\\w]','',text).split(' ')\n",
        "df_processed['title_new'] = df_processed['title_new'].apply(reprocess)"
      ]
    },
    {
      "cell_type": "code",
      "execution_count": null,
      "metadata": {
        "colab": {
          "base_uri": "https://localhost:8080/",
          "height": 276
        },
        "id": "kBMFAfS18KYw",
        "outputId": "8a6185fb-a368-4bcf-f1c2-97186c28edab",
        "scrolled": true
      },
      "outputs": [
        {
          "output_type": "display_data",
          "data": {
            "text/plain": [
              "<Figure size 432x288 with 1 Axes>"
            ],
            "image/png": "[encoded data removed]"
          },
          "metadata": {
            "needs_background": "light"
          }
        }
      ],
      "source": [
        "import matplotlib.pyplot as plt\n",
        "plt.plot(df_processed['views'])\n",
        "plt.show()"
      ]
    },
    {
      "cell_type": "code",
      "execution_count": null,
      "metadata": {
        "id": "CDnawR1U8KYx"
      },
      "outputs": [],
      "source": [
        "n1 = np.percentile(df_processed['views'].values, 25)\n",
        "n2 = np.percentile(df_processed['views'].values,50)\n",
        "n3 = np.percentile(df_processed['views'].values, 75)\n"
      ]
    },
    {
      "cell_type": "code",
      "execution_count": null,
      "metadata": {
        "id": "0Hnwemy9VAo_"
      },
      "outputs": [],
      "source": [
        "p1 = np.percentile(df_processed['publish_time'].values, 25)\n",
        "p2 = np.percentile(df_processed['publish_time'].values,50)\n",
        "p3 = np.percentile(df_processed['publish_time'].values, 75)"
      ]
    },
    {
      "cell_type": "code",
      "execution_count": null,
      "metadata": {
        "id": "bOmKrtEY8KYx"
      },
      "outputs": [],
      "source": [
        "### preprocess views-levels\n",
        "def ViewPreproc2(data):\n",
        "    if data <= n1:\n",
        "        label = 0\n",
        "    elif n1 < data <= n2:\n",
        "        label = 1\n",
        "    elif n2 < data <= n3:\n",
        "        label = 2\n",
        "    elif data > n3:\n",
        "        label = 3\n",
        "    return label\n",
        "\n",
        "df_viewlv = []\n",
        "for view in df_processed['views']:\n",
        "    label = ViewPreproc2(view)\n",
        "    df_viewlv.append(label)\n",
        "df_processed['view_lv'] = df_viewlv"
      ]
    },
    {
      "cell_type": "code",
      "execution_count": null,
      "metadata": {
        "id": "ScMGjKhZVGF2"
      },
      "outputs": [],
      "source": [
        "### preprocess time-levels\n",
        "def ViewPreproc2(data):\n",
        "    if data <= p1:\n",
        "        label = 0\n",
        "    elif p1 < data <= p2:\n",
        "        label = 1\n",
        "    elif p2 < data <= p3:\n",
        "        label = 2\n",
        "    elif data > p3:\n",
        "        label = 3\n",
        "    return label\n",
        "\n",
        "df_timelv = []\n",
        "for time in df_processed['publish_time']:\n",
        "    label = ViewPreproc2(time)\n",
        "    df_timelv.append(label)\n",
        "df_processed['time_lv'] = df_timelv"
      ]
    },
    {
      "cell_type": "code",
      "execution_count": null,
      "metadata": {
        "colab": {
          "base_uri": "https://localhost:8080/",
          "height": 413
        },
        "id": "a8WZ9qsetnQ2",
        "outputId": "397e5c96-5770-4842-e304-10a087b61c06"
      },
      "outputs": [
        {
          "data": {
            "image/png": "[encoded data removed]",
            "text/plain": [
              "<Figure size 1440x1080 with 2 Axes>"
            ]
          },
          "metadata": {},
          "output_type": "display_data"
        }
      ],
      "source": [
        "feature = ['view_lv', 'time_lv']\n",
        "\n",
        "plt.figure(figsize=(20,15))\n",
        "plt.suptitle(\"Bar Plot\", fontsize=40)\n",
        "\n",
        "for i in range(len(feature)):\n",
        "    plt.subplot(2,2,i+1)\n",
        "    plt.title(feature[i], fontsize=20)\n",
        "    temp = df_processed[feature[i]].value_counts()\n",
        "    plt.bar(temp.keys(), temp.values, width=0.5, color='b', alpha=0.5)\n",
        "    plt.xticks(temp.keys(), fontsize=12)\n",
        "plt.tight_layout(rect=[0, 0.03, 1, 0.95])\n",
        "plt.show()"
      ]
    },
    {
      "cell_type": "code",
      "execution_count": null,
      "metadata": {
        "id": "9Si9uOPutVvX"
      },
      "outputs": [],
      "source": [
        "import matplotlib.pyplot as plt\n",
        "plt.\n",
        "plt.plot(df_processed['view_lv'])\n",
        "plt.show()"
      ]
    },
    {
      "cell_type": "code",
      "execution_count": null,
      "metadata": {
        "colab": {
          "base_uri": "https://localhost:8080/",
          "height": 285
        },
        "id": "FCyYew0CV4Ou",
        "outputId": "170eb66f-b6d7-4dda-b843-3790298a0bf4"
      },
      "outputs": [
        {
          "output_type": "execute_result",
          "data": {
            "text/plain": [
              "   label                                          title_new  emoji     views  \\\n",
              "0      0            [사람, 번만, 사람, 레전드, 꿀잼, 드라마, 뷰티, 사이드, 보기]  False  804394.0   \n",
              "1      0                                   [할인, 뷰마, 박스, 공개]   True  199959.0   \n",
              "2      0          [요즘, 프로필, 메이크업, 연예인, 프로필, 메이크업, 역대, 메이크업]  False   61394.0   \n",
              "3      0                          [배우, 잠적, 이유, 뷰티, 사이드, 요약]  False    7568.0   \n",
              "4      0  [청담동, 메이크업, 추천, 그대로, 구매, 지속, 파운데이션, 가닥, 속눈썹, 고...  False  193907.0   \n",
              "\n",
              "        subs   channel_name  publish_time  view_lv  time_lv  \n",
              "0  1960000.0             고몽        202205        3        3  \n",
              "1   352000.0          뷰티마우스        202205        2        3  \n",
              "2   159000.0  옥뷰티 OK Beauty        202205        2        3  \n",
              "3   250000.0   DRAMA Voyage        202205        1        3  \n",
              "4   133000.0  뷰티숨BEAUTYSOOM        202205        2        3  "
            ],
            "text/html": [
              "\n",
              "  <div id=\"df-01a8ce1c-d802-4029-bafa-5ebcbec3f756\">\n",
              "    <div class=\"colab-df-container\">\n",
              "      <div>\n",
              "<style scoped>\n",
              "    .dataframe tbody tr th:only-of-type {\n",
              "        vertical-align: middle;\n",
              "    }\n",
              "\n",
              "    .dataframe tbody tr th {\n",
              "        vertical-align: top;\n",
              "    }\n",
              "\n",
              "    .dataframe thead th {\n",
              "        text-align: right;\n",
              "    }\n",
              "</style>\n",
              "<table border=\"1\" class=\"dataframe\">\n",
              "  <thead>\n",
              "    <tr style=\"text-align: right;\">\n",
              "      <th></th>\n",
              "      <th>label</th>\n",
              "      <th>title_new</th>\n",
              "      <th>emoji</th>\n",
              "      <th>views</th>\n",
              "      <th>subs</th>\n",
              "      <th>channel_name</th>\n",
              "      <th>publish_time</th>\n",
              "      <th>view_lv</th>\n",
              "      <th>time_lv</th>\n",
              "    </tr>\n",
              "  </thead>\n",
              "  <tbody>\n",
              "    <tr>\n",
              "      <th>0</th>\n",
              "      <td>0</td>\n",
              "      <td>[사람, 번만, 사람, 레전드, 꿀잼, 드라마, 뷰티, 사이드, 보기]</td>\n",
              "      <td>False</td>\n",
              "      <td>804394.0</td>\n",
              "      <td>1960000.0</td>\n",
              "      <td>고몽</td>\n",
              "      <td>202205</td>\n",
              "      <td>3</td>\n",
              "      <td>3</td>\n",
              "    </tr>\n",
              "    <tr>\n",
              "      <th>1</th>\n",
              "      <td>0</td>\n",
              "      <td>[할인, 뷰마, 박스, 공개]</td>\n",
              "      <td>True</td>\n",
              "      <td>199959.0</td>\n",
              "      <td>352000.0</td>\n",
              "      <td>뷰티마우스</td>\n",
              "      <td>202205</td>\n",
              "      <td>2</td>\n",
              "      <td>3</td>\n",
              "    </tr>\n",
              "    <tr>\n",
              "      <th>2</th>\n",
              "      <td>0</td>\n",
              "      <td>[요즘, 프로필, 메이크업, 연예인, 프로필, 메이크업, 역대, 메이크업]</td>\n",
              "      <td>False</td>\n",
              "      <td>61394.0</td>\n",
              "      <td>159000.0</td>\n",
              "      <td>옥뷰티 OK Beauty</td>\n",
              "      <td>202205</td>\n",
              "      <td>2</td>\n",
              "      <td>3</td>\n",
              "    </tr>\n",
              "    <tr>\n",
              "      <th>3</th>\n",
              "      <td>0</td>\n",
              "      <td>[배우, 잠적, 이유, 뷰티, 사이드, 요약]</td>\n",
              "      <td>False</td>\n",
              "      <td>7568.0</td>\n",
              "      <td>250000.0</td>\n",
              "      <td>DRAMA Voyage</td>\n",
              "      <td>202205</td>\n",
              "      <td>1</td>\n",
              "      <td>3</td>\n",
              "    </tr>\n",
              "    <tr>\n",
              "      <th>4</th>\n",
              "      <td>0</td>\n",
              "      <td>[청담동, 메이크업, 추천, 그대로, 구매, 지속, 파운데이션, 가닥, 속눈썹, 고...</td>\n",
              "      <td>False</td>\n",
              "      <td>193907.0</td>\n",
              "      <td>133000.0</td>\n",
              "      <td>뷰티숨BEAUTYSOOM</td>\n",
              "      <td>202205</td>\n",
              "      <td>2</td>\n",
              "      <td>3</td>\n",
              "    </tr>\n",
              "  </tbody>\n",
              "</table>\n",
              "</div>\n",
              "      <button class=\"colab-df-convert\" onclick=\"convertToInteractive('df-01a8ce1c-d802-4029-bafa-5ebcbec3f756')\"\n",
              "              title=\"Convert this dataframe to an interactive table.\"\n",
              "              style=\"display:none;\">\n",
              "        \n",
              "  <svg xmlns=\"http://www.w3.org/2000/svg\" height=\"24px\"viewBox=\"0 0 24 24\"\n",
              "       width=\"24px\">\n",
              "    <path d=\"M0 0h24v24H0V0z\" fill=\"none\"/>\n",
              "    <path d=\"M18.56 5.44l.94 2.06.94-2.06 2.06-.94-2.06-.94-.94-2.06-.94 2.06-2.06.94zm-11 1L8.5 8.5l.94-2.06 2.06-.94-2.06-.94L8.5 2.5l-.94 2.06-2.06.94zm10 10l.94 2.06.94-2.06 2.06-.94-2.06-.94-.94-2.06-.94 2.06-2.06.94z\"/><path d=\"M17.41 7.96l-1.37-1.37c-.4-.4-.92-.59-1.43-.59-.52 0-1.04.2-1.43.59L10.3 9.45l-7.72 7.72c-.78.78-.78 2.05 0 2.83L4 21.41c.39.39.9.59 1.41.59.51 0 1.02-.2 1.41-.59l7.78-7.78 2.81-2.81c.8-.78.8-2.07 0-2.86zM5.41 20L4 18.59l7.72-7.72 1.47 1.35L5.41 20z\"/>\n",
              "  </svg>\n",
              "      </button>\n",
              "      \n",
              "  <style>\n",
              "    .colab-df-container {\n",
              "      display:flex;\n",
              "      flex-wrap:wrap;\n",
              "      gap: 12px;\n",
              "    }\n",
              "\n",
              "    .colab-df-convert {\n",
              "      background-color: #E8F0FE;\n",
              "      border: none;\n",
              "      border-radius: 50%;\n",
              "      cursor: pointer;\n",
              "      display: none;\n",
              "      fill: #1967D2;\n",
              "      height: 32px;\n",
              "      padding: 0 0 0 0;\n",
              "      width: 32px;\n",
              "    }\n",
              "\n",
              "    .colab-df-convert:hover {\n",
              "      background-color: #E2EBFA;\n",
              "      box-shadow: 0px 1px 2px rgba(60, 64, 67, 0.3), 0px 1px 3px 1px rgba(60, 64, 67, 0.15);\n",
              "      fill: #174EA6;\n",
              "    }\n",
              "\n",
              "    [theme=dark] .colab-df-convert {\n",
              "      background-color: #3B4455;\n",
              "      fill: #D2E3FC;\n",
              "    }\n",
              "\n",
              "    [theme=dark] .colab-df-convert:hover {\n",
              "      background-color: #434B5C;\n",
              "      box-shadow: 0px 1px 3px 1px rgba(0, 0, 0, 0.15);\n",
              "      filter: drop-shadow(0px 1px 2px rgba(0, 0, 0, 0.3));\n",
              "      fill: #FFFFFF;\n",
              "    }\n",
              "  </style>\n",
              "\n",
              "      <script>\n",
              "        const buttonEl =\n",
              "          document.querySelector('#df-01a8ce1c-d802-4029-bafa-5ebcbec3f756 button.colab-df-convert');\n",
              "        buttonEl.style.display =\n",
              "          google.colab.kernel.accessAllowed ? 'block' : 'none';\n",
              "\n",
              "        async function convertToInteractive(key) {\n",
              "          const element = document.querySelector('#df-01a8ce1c-d802-4029-bafa-5ebcbec3f756');\n",
              "          const dataTable =\n",
              "            await google.colab.kernel.invokeFunction('convertToInteractive',\n",
              "                                                     [key], {});\n",
              "          if (!dataTable) return;\n",
              "\n",
              "          const docLinkHtml = 'Like what you see? Visit the ' +\n",
              "            '<a target=\"_blank\" href=https://colab.research.google.com/notebooks/data_table.ipynb>data table notebook</a>'\n",
              "            + ' to learn more about interactive tables.';\n",
              "          element.innerHTML = '';\n",
              "          dataTable['output_type'] = 'display_data';\n",
              "          await google.colab.output.renderOutput(dataTable, element);\n",
              "          const docLink = document.createElement('div');\n",
              "          docLink.innerHTML = docLinkHtml;\n",
              "          element.appendChild(docLink);\n",
              "        }\n",
              "      </script>\n",
              "    </div>\n",
              "  </div>\n",
              "  "
            ]
          },
          "metadata": {},
          "execution_count": 9
        }
      ],
      "source": [
        "df_processed.head()"
      ]
    },
    {
      "cell_type": "markdown",
      "metadata": {
        "id": "v02EKGswYzXO"
      },
      "source": [
        "- 전체 중 조회수 높은 상위레벨에 속하는거랑 그렇지 않은 거 따로 클러스터링 -> 제목의 특성 파악하기\n",
        "- 라벨별로 클러스터링해서 제목에 뭐가 들어가야 높은 조회수를 보이는지 파악해보기"
      ]
    },
    {
      "cell_type": "code",
      "execution_count": null,
      "metadata": {
        "id": "O4FLwqqM8KYx"
      },
      "outputs": [],
      "source": [
        "from sklearn.preprocessing import LabelEncoder\n",
        "le = LabelEncoder()\n",
        "df_processed['emoji_label'] = le.fit_transform(df_processed['emoji'])"
      ]
    },
    {
      "cell_type": "code",
      "execution_count": null,
      "metadata": {
        "colab": {
          "base_uri": "https://localhost:8080/",
          "height": 936
        },
        "id": "VciLpLkB8KYy",
        "outputId": "239d500c-74e4-4093-da1d-c4cabbad3ca8"
      },
      "outputs": [
        {
          "output_type": "display_data",
          "data": {
            "text/plain": [
              "       label                                          title_new  emoji  \\\n",
              "0          0            [사람, 번만, 사람, 레전드, 꿀잼, 드라마, 뷰티, 사이드, 보기]  False   \n",
              "1          0                                   [할인, 뷰마, 박스, 공개]   True   \n",
              "2          0          [요즘, 프로필, 메이크업, 연예인, 프로필, 메이크업, 역대, 메이크업]  False   \n",
              "3          0                          [배우, 잠적, 이유, 뷰티, 사이드, 요약]  False   \n",
              "4          0  [청담동, 메이크업, 추천, 그대로, 구매, 지속, 파운데이션, 가닥, 속눈썹, 고...  False   \n",
              "...      ...                                                ...    ...   \n",
              "26737      4                        [아줌마, 브이, 로그, 주부, 일상, 네일아트]  False   \n",
              "26738      4  [미국, 유학생, 일상, 브이, 로그, 학교, 브이, 로그, 코딩, 수업, 학교, ...  False   \n",
              "26739      4  [미국, 유학생, 일상, 브이, 로그, 주말, 브이, 로그, 요리, 해먹, 마트, ...  False   \n",
              "26740      4                                                 []  False   \n",
              "26741      4                      [미국, 미대, 크리, 겟레디윗미, 프라이탁, 불시]  False   \n",
              "\n",
              "          views       subs   channel_name  publish_time  view_lv  time_lv  \\\n",
              "0      804394.0  1960000.0             고몽        202205        3        3   \n",
              "1      199959.0   352000.0          뷰티마우스        202205        2        3   \n",
              "2       61394.0   159000.0  옥뷰티 OK Beauty        202205        2        3   \n",
              "3        7568.0   250000.0   DRAMA Voyage        202205        1        3   \n",
              "4      193907.0   133000.0  뷰티숨BEAUTYSOOM        202205        2        3   \n",
              "...         ...        ...            ...           ...      ...      ...   \n",
              "26737   93572.0   102000.0  양아치TV AUNT TV        202002        2        0   \n",
              "26738    1208.0      522.0      예슬 Serena        202002        0        0   \n",
              "26739     950.0      522.0      예슬 Serena        202002        0        0   \n",
              "26740  162171.0  1070000.0       Tesla US        202002        2        0   \n",
              "26741     945.0      522.0      예슬 Serena        202002        0        0   \n",
              "\n",
              "       emoji_label                                          title_str  \n",
              "0                0                      사람 번만 사람 레전드 꿀잼 드라마 뷰티 사이드 보기  \n",
              "1                1                                        할인 뷰마 박스 공개  \n",
              "2                0                   요즘 프로필 메이크업 연예인 프로필 메이크업 역대 메이크업  \n",
              "3                0                                 배우 잠적 이유 뷰티 사이드 요약  \n",
              "4                0  청담동 메이크업 추천 그대로 구매 지속 파운데이션 가닥 속눈썹 고급 하이 라이터 웨...  \n",
              "...            ...                                                ...  \n",
              "26737            0                               아줌마 브이 로그 주부 일상 네일아트  \n",
              "26738            0            미국 유학생 일상 브이 로그 학교 브이 로그 코딩 수업 학교 스킨 케어  \n",
              "26739            0  미국 유학생 일상 브이 로그 주말 브이 로그 요리 해먹 마트 일상 마스크 마트 중국...  \n",
              "26740            0                                                     \n",
              "26741            0                             미국 미대 크리 겟레디윗미 프라이탁 불시  \n",
              "\n",
              "[26742 rows x 11 columns]"
            ],
            "text/html": [
              "\n",
              "  <div id=\"df-af979c09-970c-4d61-b653-3df2d7d96747\">\n",
              "    <div class=\"colab-df-container\">\n",
              "      <div>\n",
              "<style scoped>\n",
              "    .dataframe tbody tr th:only-of-type {\n",
              "        vertical-align: middle;\n",
              "    }\n",
              "\n",
              "    .dataframe tbody tr th {\n",
              "        vertical-align: top;\n",
              "    }\n",
              "\n",
              "    .dataframe thead th {\n",
              "        text-align: right;\n",
              "    }\n",
              "</style>\n",
              "<table border=\"1\" class=\"dataframe\">\n",
              "  <thead>\n",
              "    <tr style=\"text-align: right;\">\n",
              "      <th></th>\n",
              "      <th>label</th>\n",
              "      <th>title_new</th>\n",
              "      <th>emoji</th>\n",
              "      <th>views</th>\n",
              "      <th>subs</th>\n",
              "      <th>channel_name</th>\n",
              "      <th>publish_time</th>\n",
              "      <th>view_lv</th>\n",
              "      <th>time_lv</th>\n",
              "      <th>emoji_label</th>\n",
              "      <th>title_str</th>\n",
              "    </tr>\n",
              "  </thead>\n",
              "  <tbody>\n",
              "    <tr>\n",
              "      <th>0</th>\n",
              "      <td>0</td>\n",
              "      <td>[사람, 번만, 사람, 레전드, 꿀잼, 드라마, 뷰티, 사이드, 보기]</td>\n",
              "      <td>False</td>\n",
              "      <td>804394.0</td>\n",
              "      <td>1960000.0</td>\n",
              "      <td>고몽</td>\n",
              "      <td>202205</td>\n",
              "      <td>3</td>\n",
              "      <td>3</td>\n",
              "      <td>0</td>\n",
              "      <td>사람 번만 사람 레전드 꿀잼 드라마 뷰티 사이드 보기</td>\n",
              "    </tr>\n",
              "    <tr>\n",
              "      <th>1</th>\n",
              "      <td>0</td>\n",
              "      <td>[할인, 뷰마, 박스, 공개]</td>\n",
              "      <td>True</td>\n",
              "      <td>199959.0</td>\n",
              "      <td>352000.0</td>\n",
              "      <td>뷰티마우스</td>\n",
              "      <td>202205</td>\n",
              "      <td>2</td>\n",
              "      <td>3</td>\n",
              "      <td>1</td>\n",
              "      <td>할인 뷰마 박스 공개</td>\n",
              "    </tr>\n",
              "    <tr>\n",
              "      <th>2</th>\n",
              "      <td>0</td>\n",
              "      <td>[요즘, 프로필, 메이크업, 연예인, 프로필, 메이크업, 역대, 메이크업]</td>\n",
              "      <td>False</td>\n",
              "      <td>61394.0</td>\n",
              "      <td>159000.0</td>\n",
              "      <td>옥뷰티 OK Beauty</td>\n",
              "      <td>202205</td>\n",
              "      <td>2</td>\n",
              "      <td>3</td>\n",
              "      <td>0</td>\n",
              "      <td>요즘 프로필 메이크업 연예인 프로필 메이크업 역대 메이크업</td>\n",
              "    </tr>\n",
              "    <tr>\n",
              "      <th>3</th>\n",
              "      <td>0</td>\n",
              "      <td>[배우, 잠적, 이유, 뷰티, 사이드, 요약]</td>\n",
              "      <td>False</td>\n",
              "      <td>7568.0</td>\n",
              "      <td>250000.0</td>\n",
              "      <td>DRAMA Voyage</td>\n",
              "      <td>202205</td>\n",
              "      <td>1</td>\n",
              "      <td>3</td>\n",
              "      <td>0</td>\n",
              "      <td>배우 잠적 이유 뷰티 사이드 요약</td>\n",
              "    </tr>\n",
              "    <tr>\n",
              "      <th>4</th>\n",
              "      <td>0</td>\n",
              "      <td>[청담동, 메이크업, 추천, 그대로, 구매, 지속, 파운데이션, 가닥, 속눈썹, 고...</td>\n",
              "      <td>False</td>\n",
              "      <td>193907.0</td>\n",
              "      <td>133000.0</td>\n",
              "      <td>뷰티숨BEAUTYSOOM</td>\n",
              "      <td>202205</td>\n",
              "      <td>2</td>\n",
              "      <td>3</td>\n",
              "      <td>0</td>\n",
              "      <td>청담동 메이크업 추천 그대로 구매 지속 파운데이션 가닥 속눈썹 고급 하이 라이터 웨...</td>\n",
              "    </tr>\n",
              "    <tr>\n",
              "      <th>...</th>\n",
              "      <td>...</td>\n",
              "      <td>...</td>\n",
              "      <td>...</td>\n",
              "      <td>...</td>\n",
              "      <td>...</td>\n",
              "      <td>...</td>\n",
              "      <td>...</td>\n",
              "      <td>...</td>\n",
              "      <td>...</td>\n",
              "      <td>...</td>\n",
              "      <td>...</td>\n",
              "    </tr>\n",
              "    <tr>\n",
              "      <th>26737</th>\n",
              "      <td>4</td>\n",
              "      <td>[아줌마, 브이, 로그, 주부, 일상, 네일아트]</td>\n",
              "      <td>False</td>\n",
              "      <td>93572.0</td>\n",
              "      <td>102000.0</td>\n",
              "      <td>양아치TV AUNT TV</td>\n",
              "      <td>202002</td>\n",
              "      <td>2</td>\n",
              "      <td>0</td>\n",
              "      <td>0</td>\n",
              "      <td>아줌마 브이 로그 주부 일상 네일아트</td>\n",
              "    </tr>\n",
              "    <tr>\n",
              "      <th>26738</th>\n",
              "      <td>4</td>\n",
              "      <td>[미국, 유학생, 일상, 브이, 로그, 학교, 브이, 로그, 코딩, 수업, 학교, ...</td>\n",
              "      <td>False</td>\n",
              "      <td>1208.0</td>\n",
              "      <td>522.0</td>\n",
              "      <td>예슬 Serena</td>\n",
              "      <td>202002</td>\n",
              "      <td>0</td>\n",
              "      <td>0</td>\n",
              "      <td>0</td>\n",
              "      <td>미국 유학생 일상 브이 로그 학교 브이 로그 코딩 수업 학교 스킨 케어</td>\n",
              "    </tr>\n",
              "    <tr>\n",
              "      <th>26739</th>\n",
              "      <td>4</td>\n",
              "      <td>[미국, 유학생, 일상, 브이, 로그, 주말, 브이, 로그, 요리, 해먹, 마트, ...</td>\n",
              "      <td>False</td>\n",
              "      <td>950.0</td>\n",
              "      <td>522.0</td>\n",
              "      <td>예슬 Serena</td>\n",
              "      <td>202002</td>\n",
              "      <td>0</td>\n",
              "      <td>0</td>\n",
              "      <td>0</td>\n",
              "      <td>미국 유학생 일상 브이 로그 주말 브이 로그 요리 해먹 마트 일상 마스크 마트 중국...</td>\n",
              "    </tr>\n",
              "    <tr>\n",
              "      <th>26740</th>\n",
              "      <td>4</td>\n",
              "      <td>[]</td>\n",
              "      <td>False</td>\n",
              "      <td>162171.0</td>\n",
              "      <td>1070000.0</td>\n",
              "      <td>Tesla US</td>\n",
              "      <td>202002</td>\n",
              "      <td>2</td>\n",
              "      <td>0</td>\n",
              "      <td>0</td>\n",
              "      <td></td>\n",
              "    </tr>\n",
              "    <tr>\n",
              "      <th>26741</th>\n",
              "      <td>4</td>\n",
              "      <td>[미국, 미대, 크리, 겟레디윗미, 프라이탁, 불시]</td>\n",
              "      <td>False</td>\n",
              "      <td>945.0</td>\n",
              "      <td>522.0</td>\n",
              "      <td>예슬 Serena</td>\n",
              "      <td>202002</td>\n",
              "      <td>0</td>\n",
              "      <td>0</td>\n",
              "      <td>0</td>\n",
              "      <td>미국 미대 크리 겟레디윗미 프라이탁 불시</td>\n",
              "    </tr>\n",
              "  </tbody>\n",
              "</table>\n",
              "<p>26742 rows × 11 columns</p>\n",
              "</div>\n",
              "      <button class=\"colab-df-convert\" onclick=\"convertToInteractive('df-af979c09-970c-4d61-b653-3df2d7d96747')\"\n",
              "              title=\"Convert this dataframe to an interactive table.\"\n",
              "              style=\"display:none;\">\n",
              "        \n",
              "  <svg xmlns=\"http://www.w3.org/2000/svg\" height=\"24px\"viewBox=\"0 0 24 24\"\n",
              "       width=\"24px\">\n",
              "    <path d=\"M0 0h24v24H0V0z\" fill=\"none\"/>\n",
              "    <path d=\"M18.56 5.44l.94 2.06.94-2.06 2.06-.94-2.06-.94-.94-2.06-.94 2.06-2.06.94zm-11 1L8.5 8.5l.94-2.06 2.06-.94-2.06-.94L8.5 2.5l-.94 2.06-2.06.94zm10 10l.94 2.06.94-2.06 2.06-.94-2.06-.94-.94-2.06-.94 2.06-2.06.94z\"/><path d=\"M17.41 7.96l-1.37-1.37c-.4-.4-.92-.59-1.43-.59-.52 0-1.04.2-1.43.59L10.3 9.45l-7.72 7.72c-.78.78-.78 2.05 0 2.83L4 21.41c.39.39.9.59 1.41.59.51 0 1.02-.2 1.41-.59l7.78-7.78 2.81-2.81c.8-.78.8-2.07 0-2.86zM5.41 20L4 18.59l7.72-7.72 1.47 1.35L5.41 20z\"/>\n",
              "  </svg>\n",
              "      </button>\n",
              "      \n",
              "  <style>\n",
              "    .colab-df-container {\n",
              "      display:flex;\n",
              "      flex-wrap:wrap;\n",
              "      gap: 12px;\n",
              "    }\n",
              "\n",
              "    .colab-df-convert {\n",
              "      background-color: #E8F0FE;\n",
              "      border: none;\n",
              "      border-radius: 50%;\n",
              "      cursor: pointer;\n",
              "      display: none;\n",
              "      fill: #1967D2;\n",
              "      height: 32px;\n",
              "      padding: 0 0 0 0;\n",
              "      width: 32px;\n",
              "    }\n",
              "\n",
              "    .colab-df-convert:hover {\n",
              "      background-color: #E2EBFA;\n",
              "      box-shadow: 0px 1px 2px rgba(60, 64, 67, 0.3), 0px 1px 3px 1px rgba(60, 64, 67, 0.15);\n",
              "      fill: #174EA6;\n",
              "    }\n",
              "\n",
              "    [theme=dark] .colab-df-convert {\n",
              "      background-color: #3B4455;\n",
              "      fill: #D2E3FC;\n",
              "    }\n",
              "\n",
              "    [theme=dark] .colab-df-convert:hover {\n",
              "      background-color: #434B5C;\n",
              "      box-shadow: 0px 1px 3px 1px rgba(0, 0, 0, 0.15);\n",
              "      filter: drop-shadow(0px 1px 2px rgba(0, 0, 0, 0.3));\n",
              "      fill: #FFFFFF;\n",
              "    }\n",
              "  </style>\n",
              "\n",
              "      <script>\n",
              "        const buttonEl =\n",
              "          document.querySelector('#df-af979c09-970c-4d61-b653-3df2d7d96747 button.colab-df-convert');\n",
              "        buttonEl.style.display =\n",
              "          google.colab.kernel.accessAllowed ? 'block' : 'none';\n",
              "\n",
              "        async function convertToInteractive(key) {\n",
              "          const element = document.querySelector('#df-af979c09-970c-4d61-b653-3df2d7d96747');\n",
              "          const dataTable =\n",
              "            await google.colab.kernel.invokeFunction('convertToInteractive',\n",
              "                                                     [key], {});\n",
              "          if (!dataTable) return;\n",
              "\n",
              "          const docLinkHtml = 'Like what you see? Visit the ' +\n",
              "            '<a target=\"_blank\" href=https://colab.research.google.com/notebooks/data_table.ipynb>data table notebook</a>'\n",
              "            + ' to learn more about interactive tables.';\n",
              "          element.innerHTML = '';\n",
              "          dataTable['output_type'] = 'display_data';\n",
              "          await google.colab.output.renderOutput(dataTable, element);\n",
              "          const docLink = document.createElement('div');\n",
              "          docLink.innerHTML = docLinkHtml;\n",
              "          element.appendChild(docLink);\n",
              "        }\n",
              "      </script>\n",
              "    </div>\n",
              "  </div>\n",
              "  "
            ]
          },
          "metadata": {}
        }
      ],
      "source": [
        "from sklearn.feature_extraction.text import CountVectorizer # frequency based DTM\n",
        "from sklearn.feature_extraction.text import TfidfVectorizer # tf-idf based DTM\n",
        "\n",
        "### make data to list of strings again\n",
        "title_filtered = []\n",
        "for title in df_processed['title_new']:\n",
        "    title_str =' '.join(title)\n",
        "    title_filtered.append(title_str) # list of docs, doc 은 단어들로 구성이 된 string data\n",
        "# 불필요한 단어들을 제거하고 난후 DTM로 변환하기 위해 다시 list of strings의 형태로 변환\n",
        "df_processed['title_str']=title_filtered\n",
        "display(df_processed)"
      ]
    },
    {
      "cell_type": "code",
      "execution_count": null,
      "metadata": {
        "colab": {
          "base_uri": "https://localhost:8080/",
          "height": 331
        },
        "id": "HCJiDByt0YhR",
        "outputId": "29e653ac-3c5a-4d62-b401-0b43b317477d"
      },
      "outputs": [
        {
          "data": {
            "text/html": [
              "\n",
              "  <div id=\"df-dcc822ff-6332-4e39-8efb-75085633a7d1\">\n",
              "    <div class=\"colab-df-container\">\n",
              "      <div>\n",
              "<style scoped>\n",
              "    .dataframe tbody tr th:only-of-type {\n",
              "        vertical-align: middle;\n",
              "    }\n",
              "\n",
              "    .dataframe tbody tr th {\n",
              "        vertical-align: top;\n",
              "    }\n",
              "\n",
              "    .dataframe thead th {\n",
              "        text-align: right;\n",
              "    }\n",
              "</style>\n",
              "<table border=\"1\" class=\"dataframe\">\n",
              "  <thead>\n",
              "    <tr style=\"text-align: right;\">\n",
              "      <th></th>\n",
              "      <th>label</th>\n",
              "      <th>title_new</th>\n",
              "      <th>emoji</th>\n",
              "      <th>views</th>\n",
              "      <th>subs</th>\n",
              "      <th>channel_name</th>\n",
              "      <th>publish_time</th>\n",
              "      <th>view_lv</th>\n",
              "      <th>time_lv</th>\n",
              "      <th>emoji_label</th>\n",
              "      <th>title_str</th>\n",
              "    </tr>\n",
              "  </thead>\n",
              "  <tbody>\n",
              "    <tr>\n",
              "      <th>0</th>\n",
              "      <td>0</td>\n",
              "      <td>[사람, 번만, 사람, 레전드, 꿀잼, 드라마, 뷰티, 사이드, 보기]</td>\n",
              "      <td>False</td>\n",
              "      <td>804394.0</td>\n",
              "      <td>1960000.0</td>\n",
              "      <td>고몽</td>\n",
              "      <td>202205</td>\n",
              "      <td>3</td>\n",
              "      <td>3</td>\n",
              "      <td>0</td>\n",
              "      <td>사람 번만 사람 레전드 꿀잼 드라마 뷰티 사이드 보기</td>\n",
              "    </tr>\n",
              "    <tr>\n",
              "      <th>1</th>\n",
              "      <td>0</td>\n",
              "      <td>[할인, 뷰마, 박스, 공개]</td>\n",
              "      <td>True</td>\n",
              "      <td>199959.0</td>\n",
              "      <td>352000.0</td>\n",
              "      <td>뷰티마우스</td>\n",
              "      <td>202205</td>\n",
              "      <td>2</td>\n",
              "      <td>3</td>\n",
              "      <td>1</td>\n",
              "      <td>할인 뷰마 박스 공개</td>\n",
              "    </tr>\n",
              "    <tr>\n",
              "      <th>2</th>\n",
              "      <td>0</td>\n",
              "      <td>[요즘, 프로필, 메이크업, 연예인, 프로필, 메이크업, 역대, 메이크업]</td>\n",
              "      <td>False</td>\n",
              "      <td>61394.0</td>\n",
              "      <td>159000.0</td>\n",
              "      <td>옥뷰티 OK Beauty</td>\n",
              "      <td>202205</td>\n",
              "      <td>2</td>\n",
              "      <td>3</td>\n",
              "      <td>0</td>\n",
              "      <td>요즘 프로필 메이크업 연예인 프로필 메이크업 역대 메이크업</td>\n",
              "    </tr>\n",
              "    <tr>\n",
              "      <th>3</th>\n",
              "      <td>0</td>\n",
              "      <td>[배우, 잠적, 이유, 뷰티, 사이드, 요약]</td>\n",
              "      <td>False</td>\n",
              "      <td>7568.0</td>\n",
              "      <td>250000.0</td>\n",
              "      <td>DRAMA Voyage</td>\n",
              "      <td>202205</td>\n",
              "      <td>1</td>\n",
              "      <td>3</td>\n",
              "      <td>0</td>\n",
              "      <td>배우 잠적 이유 뷰티 사이드 요약</td>\n",
              "    </tr>\n",
              "    <tr>\n",
              "      <th>4</th>\n",
              "      <td>0</td>\n",
              "      <td>[청담동, 메이크업, 추천, 그대로, 구매, 지속, 파운데이션, 가닥, 속눈썹, 고...</td>\n",
              "      <td>False</td>\n",
              "      <td>193907.0</td>\n",
              "      <td>133000.0</td>\n",
              "      <td>뷰티숨BEAUTYSOOM</td>\n",
              "      <td>202205</td>\n",
              "      <td>2</td>\n",
              "      <td>3</td>\n",
              "      <td>0</td>\n",
              "      <td>청담동 메이크업 추천 그대로 구매 지속 파운데이션 가닥 속눈썹 고급 하이 라이터 웨...</td>\n",
              "    </tr>\n",
              "  </tbody>\n",
              "</table>\n",
              "</div>\n",
              "      <button class=\"colab-df-convert\" onclick=\"convertToInteractive('df-dcc822ff-6332-4e39-8efb-75085633a7d1')\"\n",
              "              title=\"Convert this dataframe to an interactive table.\"\n",
              "              style=\"display:none;\">\n",
              "        \n",
              "  <svg xmlns=\"http://www.w3.org/2000/svg\" height=\"24px\"viewBox=\"0 0 24 24\"\n",
              "       width=\"24px\">\n",
              "    <path d=\"M0 0h24v24H0V0z\" fill=\"none\"/>\n",
              "    <path d=\"M18.56 5.44l.94 2.06.94-2.06 2.06-.94-2.06-.94-.94-2.06-.94 2.06-2.06.94zm-11 1L8.5 8.5l.94-2.06 2.06-.94-2.06-.94L8.5 2.5l-.94 2.06-2.06.94zm10 10l.94 2.06.94-2.06 2.06-.94-2.06-.94-.94-2.06-.94 2.06-2.06.94z\"/><path d=\"M17.41 7.96l-1.37-1.37c-.4-.4-.92-.59-1.43-.59-.52 0-1.04.2-1.43.59L10.3 9.45l-7.72 7.72c-.78.78-.78 2.05 0 2.83L4 21.41c.39.39.9.59 1.41.59.51 0 1.02-.2 1.41-.59l7.78-7.78 2.81-2.81c.8-.78.8-2.07 0-2.86zM5.41 20L4 18.59l7.72-7.72 1.47 1.35L5.41 20z\"/>\n",
              "  </svg>\n",
              "      </button>\n",
              "      \n",
              "  <style>\n",
              "    .colab-df-container {\n",
              "      display:flex;\n",
              "      flex-wrap:wrap;\n",
              "      gap: 12px;\n",
              "    }\n",
              "\n",
              "    .colab-df-convert {\n",
              "      background-color: #E8F0FE;\n",
              "      border: none;\n",
              "      border-radius: 50%;\n",
              "      cursor: pointer;\n",
              "      display: none;\n",
              "      fill: #1967D2;\n",
              "      height: 32px;\n",
              "      padding: 0 0 0 0;\n",
              "      width: 32px;\n",
              "    }\n",
              "\n",
              "    .colab-df-convert:hover {\n",
              "      background-color: #E2EBFA;\n",
              "      box-shadow: 0px 1px 2px rgba(60, 64, 67, 0.3), 0px 1px 3px 1px rgba(60, 64, 67, 0.15);\n",
              "      fill: #174EA6;\n",
              "    }\n",
              "\n",
              "    [theme=dark] .colab-df-convert {\n",
              "      background-color: #3B4455;\n",
              "      fill: #D2E3FC;\n",
              "    }\n",
              "\n",
              "    [theme=dark] .colab-df-convert:hover {\n",
              "      background-color: #434B5C;\n",
              "      box-shadow: 0px 1px 3px 1px rgba(0, 0, 0, 0.15);\n",
              "      filter: drop-shadow(0px 1px 2px rgba(0, 0, 0, 0.3));\n",
              "      fill: #FFFFFF;\n",
              "    }\n",
              "  </style>\n",
              "\n",
              "      <script>\n",
              "        const buttonEl =\n",
              "          document.querySelector('#df-dcc822ff-6332-4e39-8efb-75085633a7d1 button.colab-df-convert');\n",
              "        buttonEl.style.display =\n",
              "          google.colab.kernel.accessAllowed ? 'block' : 'none';\n",
              "\n",
              "        async function convertToInteractive(key) {\n",
              "          const element = document.querySelector('#df-dcc822ff-6332-4e39-8efb-75085633a7d1');\n",
              "          const dataTable =\n",
              "            await google.colab.kernel.invokeFunction('convertToInteractive',\n",
              "                                                     [key], {});\n",
              "          if (!dataTable) return;\n",
              "\n",
              "          const docLinkHtml = 'Like what you see? Visit the ' +\n",
              "            '<a target=\"_blank\" href=https://colab.research.google.com/notebooks/data_table.ipynb>data table notebook</a>'\n",
              "            + ' to learn more about interactive tables.';\n",
              "          element.innerHTML = '';\n",
              "          dataTable['output_type'] = 'display_data';\n",
              "          await google.colab.output.renderOutput(dataTable, element);\n",
              "          const docLink = document.createElement('div');\n",
              "          docLink.innerHTML = docLinkHtml;\n",
              "          element.appendChild(docLink);\n",
              "        }\n",
              "      </script>\n",
              "    </div>\n",
              "  </div>\n",
              "  "
            ],
            "text/plain": [
              "   label                                          title_new  emoji     views  \\\n",
              "0      0            [사람, 번만, 사람, 레전드, 꿀잼, 드라마, 뷰티, 사이드, 보기]  False  804394.0   \n",
              "1      0                                   [할인, 뷰마, 박스, 공개]   True  199959.0   \n",
              "2      0          [요즘, 프로필, 메이크업, 연예인, 프로필, 메이크업, 역대, 메이크업]  False   61394.0   \n",
              "3      0                          [배우, 잠적, 이유, 뷰티, 사이드, 요약]  False    7568.0   \n",
              "4      0  [청담동, 메이크업, 추천, 그대로, 구매, 지속, 파운데이션, 가닥, 속눈썹, 고...  False  193907.0   \n",
              "\n",
              "        subs   channel_name  publish_time  view_lv  time_lv  emoji_label  \\\n",
              "0  1960000.0             고몽        202205        3        3            0   \n",
              "1   352000.0          뷰티마우스        202205        2        3            1   \n",
              "2   159000.0  옥뷰티 OK Beauty        202205        2        3            0   \n",
              "3   250000.0   DRAMA Voyage        202205        1        3            0   \n",
              "4   133000.0  뷰티숨BEAUTYSOOM        202205        2        3            0   \n",
              "\n",
              "                                           title_str  \n",
              "0                      사람 번만 사람 레전드 꿀잼 드라마 뷰티 사이드 보기  \n",
              "1                                        할인 뷰마 박스 공개  \n",
              "2                   요즘 프로필 메이크업 연예인 프로필 메이크업 역대 메이크업  \n",
              "3                                 배우 잠적 이유 뷰티 사이드 요약  \n",
              "4  청담동 메이크업 추천 그대로 구매 지속 파운데이션 가닥 속눈썹 고급 하이 라이터 웨...  "
            ]
          },
          "execution_count": 15,
          "metadata": {},
          "output_type": "execute_result"
        }
      ],
      "source": [
        "df_processed.head()"
      ]
    },
    {
      "cell_type": "code",
      "execution_count": null,
      "metadata": {
        "colab": {
          "base_uri": "https://localhost:8080/"
        },
        "id": "QnIBuTu5JPm5",
        "outputId": "5a6d628d-77a4-4e7e-f568-85855b857b13"
      },
      "outputs": [
        {
          "data": {
            "text/plain": [
              "0        3\n",
              "1        0\n",
              "2        0\n",
              "3        0\n",
              "4        0\n",
              "        ..\n",
              "26737    0\n",
              "26738    0\n",
              "26739    0\n",
              "26740    0\n",
              "26741    0\n",
              "Name: view_lv, Length: 26742, dtype: int64"
            ]
          },
          "execution_count": 98,
          "metadata": {},
          "output_type": "execute_result"
        }
      ],
      "source": [
        "y"
      ]
    },
    {
      "cell_type": "markdown",
      "metadata": {
        "id": "cSW618GM8KYy"
      },
      "source": [
        "### Vectorization ver 1."
      ]
    },
    {
      "cell_type": "code",
      "execution_count": null,
      "metadata": {
        "colab": {
          "base_uri": "https://localhost:8080/"
        },
        "id": "QGuq3U-g8KYz",
        "outputId": "d3fa2398-3edf-4c71-b738-27dc2c9fc433"
      },
      "outputs": [
        {
          "data": {
            "text/plain": [
              "(26742, 1500)"
            ]
          },
          "execution_count": 13,
          "metadata": {},
          "output_type": "execute_result"
        }
      ],
      "source": [
        "tfidf_vectorizer2 = TfidfVectorizer(min_df=1, ngram_range=(1,2), max_features = 1500)\n",
        "tfidf_features2 = tfidf_vectorizer2.fit_transform(df_processed['title_str'])\n",
        "tfidf_features2 = np.array(tfidf_features2.todense())\n",
        "tfidf_features2.shape"
      ]
    },
    {
      "cell_type": "code",
      "execution_count": null,
      "metadata": {
        "id": "hYMS7qJC8KYz"
      },
      "outputs": [],
      "source": [
        "tfidf2 = pd.DataFrame(tfidf_features2)\n",
        "X = pd.concat([tfidf2, df_processed[['subs','emoji_label','publish_time']]], axis = 1)\n",
        "y = df_processed['view_lv']"
      ]
    },
    {
      "cell_type": "code",
      "execution_count": null,
      "metadata": {
        "colab": {
          "base_uri": "https://localhost:8080/"
        },
        "id": "nCUx_0448KYz",
        "outputId": "e5e210c7-8a90-4e82-f1af-5eb18d0c2238"
      },
      "outputs": [
        {
          "name": "stderr",
          "output_type": "stream",
          "text": [
            "/usr/local/lib/python3.7/dist-packages/sklearn/utils/validation.py:1692: FutureWarning: Feature names only support names that are all strings. Got feature names with dtypes: ['int', 'str']. An error will be raised in 1.2.\n",
            "  FutureWarning,\n",
            "/usr/local/lib/python3.7/dist-packages/sklearn/utils/validation.py:1692: FutureWarning: Feature names only support names that are all strings. Got feature names with dtypes: ['int', 'str']. An error will be raised in 1.2.\n",
            "  FutureWarning,\n"
          ]
        }
      ],
      "source": [
        "from sklearn.preprocessing import MaxAbsScaler\n",
        "max_scaler = MaxAbsScaler()\n",
        "\n",
        "X_sc = scaler.fit_transform(X)"
      ]
    },
    {
      "cell_type": "code",
      "execution_count": null,
      "metadata": {
        "colab": {
          "base_uri": "https://localhost:8080/"
        },
        "id": "ionlj6V48KYz",
        "outputId": "fab3ffbe-7127-475b-bd9e-8ec61a80def7"
      },
      "outputs": [
        {
          "data": {
            "text/plain": [
              "26742"
            ]
          },
          "execution_count": 16,
          "metadata": {},
          "output_type": "execute_result"
        }
      ],
      "source": [
        "len(X_sc)"
      ]
    },
    {
      "cell_type": "code",
      "execution_count": null,
      "metadata": {
        "id": "0Sx3MOcZ8KYz"
      },
      "outputs": [],
      "source": [
        "from sklearn.model_selection import train_test_split\n",
        "X_train, X_test, y_train, y_test = train_test_split(X_sc, y, \n",
        "                                                    test_size=0.1, \n",
        "                                                    random_state=0, \n",
        "                                                    stratify=y)"
      ]
    },
    {
      "cell_type": "code",
      "execution_count": null,
      "metadata": {
        "colab": {
          "base_uri": "https://localhost:8080/"
        },
        "id": "Zy7K9DbvBdey",
        "outputId": "f2b0d250-5365-4053-9d40-e099bc25ffc6"
      },
      "outputs": [
        {
          "data": {
            "text/plain": [
              "0.7480373831775701"
            ]
          },
          "execution_count": 17,
          "metadata": {},
          "output_type": "execute_result"
        }
      ],
      "source": [
        "from sklearn.ensemble import RandomForestClassifier\n",
        "from sklearn.metrics import accuracy_score\n",
        "rnd_clf = RandomForestClassifier(n_estimators=100, max_features='sqrt', \n",
        "                                 max_depth = None, min_samples_split=2,\n",
        "                                 n_jobs=-1)\n",
        "rnd_clf.fit(X_train, y_train)\n",
        "y_rnd = rnd_clf.predict(X_test)\n",
        "accuracy_score(y_test, y_rnd)"
      ]
    },
    {
      "cell_type": "markdown",
      "metadata": {
        "id": "xL9eO6dNFIrF"
      },
      "source": [
        "딥러닝,,, 근데 이렇게 하는게 맞나.."
      ]
    },
    {
      "cell_type": "code",
      "execution_count": null,
      "metadata": {
        "id": "4qBa4-bpFKrB"
      },
      "outputs": [],
      "source": [
        "from keras.models import Sequential\n",
        "from keras.layers import Dense, Dropout"
      ]
    },
    {
      "cell_type": "code",
      "execution_count": null,
      "metadata": {
        "id": "QP2SSebxS-k9"
      },
      "outputs": [],
      "source": [
        "yed = pd.get_dummies(df_processed['view_lv'])"
      ]
    },
    {
      "cell_type": "code",
      "execution_count": null,
      "metadata": {
        "id": "KGlysoozS0JE"
      },
      "outputs": [],
      "source": [
        "Xed_train, Xed_test, yed_train, yed_test = train_test_split(X_sc, yed, \n",
        "                                                    test_size=0.1, \n",
        "                                                    random_state=0, \n",
        "                                                    stratify=yed)"
      ]
    },
    {
      "cell_type": "code",
      "execution_count": null,
      "metadata": {
        "colab": {
          "base_uri": "https://localhost:8080/"
        },
        "id": "zAHJ1Ya_UWNN",
        "outputId": "9b40531b-7503-4354-8100-b8f6ec01595f"
      },
      "outputs": [
        {
          "data": {
            "text/plain": [
              "(24067, 1503)"
            ]
          },
          "execution_count": 21,
          "metadata": {},
          "output_type": "execute_result"
        }
      ],
      "source": [
        "Xed_train.shape"
      ]
    },
    {
      "cell_type": "code",
      "execution_count": null,
      "metadata": {
        "id": "aV3Onl5IFuVd"
      },
      "outputs": [],
      "source": [
        "model = Sequential()\n",
        "model.add(Dense(64, input_dim=1503, activation='relu'))\n",
        "model.add(Dropout(0.3))\n",
        "model.add(Dense(32, activation='relu'))\n",
        "model.add(Dropout(0.2))\n",
        "model.add(Dense(32, activation='relu'))\n",
        "model.add(Dropout(0.3))\n",
        "model.add(Dense(4, activation='softmax'))\n"
      ]
    },
    {
      "cell_type": "code",
      "execution_count": null,
      "metadata": {
        "colab": {
          "base_uri": "https://localhost:8080/"
        },
        "id": "LsXVs0oDGWNP",
        "outputId": "3c2618aa-29f0-434e-9e88-2db904309b45"
      },
      "outputs": [
        {
          "name": "stdout",
          "output_type": "stream",
          "text": [
            "Epoch 1/100\n",
            "753/753 [==============================] - 3s 3ms/step - loss: 0.1690 - accuracy: 0.4195\n",
            "Epoch 2/100\n",
            "753/753 [==============================] - 2s 3ms/step - loss: 0.1428 - accuracy: 0.5483\n",
            "Epoch 3/100\n",
            "753/753 [==============================] - 2s 3ms/step - loss: 0.1344 - accuracy: 0.5870\n",
            "Epoch 4/100\n",
            "753/753 [==============================] - 2s 3ms/step - loss: 0.1270 - accuracy: 0.6171\n",
            "Epoch 5/100\n",
            "753/753 [==============================] - 2s 3ms/step - loss: 0.1218 - accuracy: 0.6391\n",
            "Epoch 6/100\n",
            "753/753 [==============================] - 2s 3ms/step - loss: 0.1166 - accuracy: 0.6527\n",
            "Epoch 7/100\n",
            "753/753 [==============================] - 2s 3ms/step - loss: 0.1131 - accuracy: 0.6675\n",
            "Epoch 8/100\n",
            "753/753 [==============================] - 2s 3ms/step - loss: 0.1086 - accuracy: 0.6861\n",
            "Epoch 9/100\n",
            "753/753 [==============================] - 3s 3ms/step - loss: 0.1053 - accuracy: 0.6967\n",
            "Epoch 10/100\n",
            "753/753 [==============================] - 3s 4ms/step - loss: 0.1013 - accuracy: 0.7080\n",
            "Epoch 11/100\n",
            "753/753 [==============================] - 2s 3ms/step - loss: 0.0992 - accuracy: 0.7198\n",
            "Epoch 12/100\n",
            "753/753 [==============================] - 2s 3ms/step - loss: 0.0953 - accuracy: 0.7326\n",
            "Epoch 13/100\n",
            "753/753 [==============================] - 2s 3ms/step - loss: 0.0928 - accuracy: 0.7380\n",
            "Epoch 14/100\n",
            "753/753 [==============================] - 2s 3ms/step - loss: 0.0908 - accuracy: 0.7469\n",
            "Epoch 15/100\n",
            "753/753 [==============================] - 2s 3ms/step - loss: 0.0875 - accuracy: 0.7561\n",
            "Epoch 16/100\n",
            "753/753 [==============================] - 2s 3ms/step - loss: 0.0858 - accuracy: 0.7589\n",
            "Epoch 17/100\n",
            "753/753 [==============================] - 2s 3ms/step - loss: 0.0838 - accuracy: 0.7642\n",
            "Epoch 18/100\n",
            "753/753 [==============================] - 2s 3ms/step - loss: 0.0825 - accuracy: 0.7715\n",
            "Epoch 19/100\n",
            "753/753 [==============================] - 2s 3ms/step - loss: 0.0820 - accuracy: 0.7706\n",
            "Epoch 20/100\n",
            "753/753 [==============================] - 2s 3ms/step - loss: 0.0799 - accuracy: 0.7787\n",
            "Epoch 21/100\n",
            "753/753 [==============================] - 2s 3ms/step - loss: 0.0782 - accuracy: 0.7843\n",
            "Epoch 22/100\n",
            "753/753 [==============================] - 2s 3ms/step - loss: 0.0758 - accuracy: 0.7886\n",
            "Epoch 23/100\n",
            "753/753 [==============================] - 2s 3ms/step - loss: 0.0757 - accuracy: 0.7917\n",
            "Epoch 24/100\n",
            "753/753 [==============================] - 2s 3ms/step - loss: 0.0753 - accuracy: 0.7908\n",
            "Epoch 25/100\n",
            "753/753 [==============================] - 2s 3ms/step - loss: 0.0738 - accuracy: 0.7949\n",
            "Epoch 26/100\n",
            "753/753 [==============================] - 2s 3ms/step - loss: 0.0724 - accuracy: 0.7991\n",
            "Epoch 27/100\n",
            "753/753 [==============================] - 2s 3ms/step - loss: 0.0716 - accuracy: 0.8005\n",
            "Epoch 28/100\n",
            "753/753 [==============================] - 2s 3ms/step - loss: 0.0710 - accuracy: 0.8033\n",
            "Epoch 29/100\n",
            "753/753 [==============================] - 2s 3ms/step - loss: 0.0695 - accuracy: 0.8076\n",
            "Epoch 30/100\n",
            "753/753 [==============================] - 2s 3ms/step - loss: 0.0694 - accuracy: 0.8073\n",
            "Epoch 31/100\n",
            "753/753 [==============================] - 2s 3ms/step - loss: 0.0682 - accuracy: 0.8122\n",
            "Epoch 32/100\n",
            "753/753 [==============================] - 2s 3ms/step - loss: 0.0664 - accuracy: 0.8178\n",
            "Epoch 33/100\n",
            "753/753 [==============================] - 2s 3ms/step - loss: 0.0664 - accuracy: 0.8163\n",
            "Epoch 34/100\n",
            "753/753 [==============================] - 2s 3ms/step - loss: 0.0660 - accuracy: 0.8187\n",
            "Epoch 35/100\n",
            "753/753 [==============================] - 2s 3ms/step - loss: 0.0654 - accuracy: 0.8189\n",
            "Epoch 36/100\n",
            "753/753 [==============================] - 2s 3ms/step - loss: 0.0647 - accuracy: 0.8233\n",
            "Epoch 37/100\n",
            "753/753 [==============================] - 2s 3ms/step - loss: 0.0640 - accuracy: 0.8260\n",
            "Epoch 38/100\n",
            "753/753 [==============================] - 2s 3ms/step - loss: 0.0628 - accuracy: 0.8285\n",
            "Epoch 39/100\n",
            "753/753 [==============================] - 2s 3ms/step - loss: 0.0629 - accuracy: 0.8264\n",
            "Epoch 40/100\n",
            "753/753 [==============================] - 2s 3ms/step - loss: 0.0622 - accuracy: 0.8261\n",
            "Epoch 41/100\n",
            "753/753 [==============================] - 2s 3ms/step - loss: 0.0612 - accuracy: 0.8317\n",
            "Epoch 42/100\n",
            "753/753 [==============================] - 2s 3ms/step - loss: 0.0617 - accuracy: 0.8301\n",
            "Epoch 43/100\n",
            "753/753 [==============================] - 2s 3ms/step - loss: 0.0609 - accuracy: 0.8326\n",
            "Epoch 44/100\n",
            "753/753 [==============================] - 2s 3ms/step - loss: 0.0608 - accuracy: 0.8339\n",
            "Epoch 45/100\n",
            "753/753 [==============================] - 2s 3ms/step - loss: 0.0593 - accuracy: 0.8355\n",
            "Epoch 46/100\n",
            "753/753 [==============================] - 2s 3ms/step - loss: 0.0593 - accuracy: 0.8359\n",
            "Epoch 47/100\n",
            "753/753 [==============================] - 2s 3ms/step - loss: 0.0591 - accuracy: 0.8387\n",
            "Epoch 48/100\n",
            "753/753 [==============================] - 2s 3ms/step - loss: 0.0581 - accuracy: 0.8399\n",
            "Epoch 49/100\n",
            "753/753 [==============================] - 2s 3ms/step - loss: 0.0577 - accuracy: 0.8418\n",
            "Epoch 50/100\n",
            "753/753 [==============================] - 2s 3ms/step - loss: 0.0575 - accuracy: 0.8419\n",
            "Epoch 51/100\n",
            "753/753 [==============================] - 2s 3ms/step - loss: 0.0575 - accuracy: 0.8429\n",
            "Epoch 52/100\n",
            "753/753 [==============================] - 2s 3ms/step - loss: 0.0571 - accuracy: 0.8425\n",
            "Epoch 53/100\n",
            "753/753 [==============================] - 2s 3ms/step - loss: 0.0572 - accuracy: 0.8419\n",
            "Epoch 54/100\n",
            "753/753 [==============================] - 2s 3ms/step - loss: 0.0561 - accuracy: 0.8457\n",
            "Epoch 55/100\n",
            "753/753 [==============================] - 2s 3ms/step - loss: 0.0561 - accuracy: 0.8471\n",
            "Epoch 56/100\n",
            "753/753 [==============================] - 2s 3ms/step - loss: 0.0569 - accuracy: 0.8439\n",
            "Epoch 57/100\n",
            "753/753 [==============================] - 2s 3ms/step - loss: 0.0551 - accuracy: 0.8500\n",
            "Epoch 58/100\n",
            "753/753 [==============================] - 2s 3ms/step - loss: 0.0555 - accuracy: 0.8483\n",
            "Epoch 59/100\n",
            "753/753 [==============================] - 2s 3ms/step - loss: 0.0548 - accuracy: 0.8510\n",
            "Epoch 60/100\n",
            "753/753 [==============================] - 2s 3ms/step - loss: 0.0549 - accuracy: 0.8509\n",
            "Epoch 61/100\n",
            "753/753 [==============================] - 2s 3ms/step - loss: 0.0537 - accuracy: 0.8532\n",
            "Epoch 62/100\n",
            "753/753 [==============================] - 2s 3ms/step - loss: 0.0543 - accuracy: 0.8520\n",
            "Epoch 63/100\n",
            "753/753 [==============================] - 2s 3ms/step - loss: 0.0533 - accuracy: 0.8549\n",
            "Epoch 64/100\n",
            "753/753 [==============================] - 2s 3ms/step - loss: 0.0538 - accuracy: 0.8534\n",
            "Epoch 65/100\n",
            "753/753 [==============================] - 2s 3ms/step - loss: 0.0528 - accuracy: 0.8562\n",
            "Epoch 66/100\n",
            "753/753 [==============================] - 2s 3ms/step - loss: 0.0545 - accuracy: 0.8514\n",
            "Epoch 67/100\n",
            "753/753 [==============================] - 2s 3ms/step - loss: 0.0536 - accuracy: 0.8522\n",
            "Epoch 68/100\n",
            "753/753 [==============================] - 2s 3ms/step - loss: 0.0530 - accuracy: 0.8540\n",
            "Epoch 69/100\n",
            "753/753 [==============================] - 2s 3ms/step - loss: 0.0522 - accuracy: 0.8580\n",
            "Epoch 70/100\n",
            "753/753 [==============================] - 2s 3ms/step - loss: 0.0530 - accuracy: 0.8551\n",
            "Epoch 71/100\n",
            "753/753 [==============================] - 2s 3ms/step - loss: 0.0516 - accuracy: 0.8584\n",
            "Epoch 72/100\n",
            "753/753 [==============================] - 2s 3ms/step - loss: 0.0524 - accuracy: 0.8571\n",
            "Epoch 73/100\n",
            "753/753 [==============================] - 2s 3ms/step - loss: 0.0518 - accuracy: 0.8575\n",
            "Epoch 74/100\n",
            "753/753 [==============================] - 2s 3ms/step - loss: 0.0513 - accuracy: 0.8601\n",
            "Epoch 75/100\n",
            "753/753 [==============================] - 2s 3ms/step - loss: 0.0519 - accuracy: 0.8580\n",
            "Epoch 76/100\n",
            "753/753 [==============================] - 2s 3ms/step - loss: 0.0510 - accuracy: 0.8584\n",
            "Epoch 77/100\n",
            "753/753 [==============================] - 2s 3ms/step - loss: 0.0511 - accuracy: 0.8601\n",
            "Epoch 78/100\n",
            "753/753 [==============================] - 2s 3ms/step - loss: 0.0504 - accuracy: 0.8615\n",
            "Epoch 79/100\n",
            "753/753 [==============================] - 2s 3ms/step - loss: 0.0520 - accuracy: 0.8565\n",
            "Epoch 80/100\n",
            "753/753 [==============================] - 2s 3ms/step - loss: 0.0505 - accuracy: 0.8608\n",
            "Epoch 81/100\n",
            "753/753 [==============================] - 2s 3ms/step - loss: 0.0499 - accuracy: 0.8634\n",
            "Epoch 82/100\n",
            "753/753 [==============================] - 2s 3ms/step - loss: 0.0509 - accuracy: 0.8579\n",
            "Epoch 83/100\n",
            "753/753 [==============================] - 2s 3ms/step - loss: 0.0506 - accuracy: 0.8608\n",
            "Epoch 84/100\n",
            "753/753 [==============================] - 2s 3ms/step - loss: 0.0500 - accuracy: 0.8625\n",
            "Epoch 85/100\n",
            "753/753 [==============================] - 2s 3ms/step - loss: 0.0492 - accuracy: 0.8660\n",
            "Epoch 86/100\n",
            "753/753 [==============================] - 2s 3ms/step - loss: 0.0495 - accuracy: 0.8638\n",
            "Epoch 87/100\n",
            "753/753 [==============================] - 2s 3ms/step - loss: 0.0501 - accuracy: 0.8625\n",
            "Epoch 88/100\n",
            "753/753 [==============================] - 2s 3ms/step - loss: 0.0495 - accuracy: 0.8644\n",
            "Epoch 89/100\n",
            "753/753 [==============================] - 2s 3ms/step - loss: 0.0495 - accuracy: 0.8649\n",
            "Epoch 90/100\n",
            "753/753 [==============================] - 2s 3ms/step - loss: 0.0494 - accuracy: 0.8662\n",
            "Epoch 91/100\n",
            "753/753 [==============================] - 2s 3ms/step - loss: 0.0490 - accuracy: 0.8660\n",
            "Epoch 92/100\n",
            "753/753 [==============================] - 2s 3ms/step - loss: 0.0487 - accuracy: 0.8665\n",
            "Epoch 93/100\n",
            "753/753 [==============================] - 2s 3ms/step - loss: 0.0492 - accuracy: 0.8663\n",
            "Epoch 94/100\n",
            "753/753 [==============================] - 2s 3ms/step - loss: 0.0496 - accuracy: 0.8624\n",
            "Epoch 95/100\n",
            "753/753 [==============================] - 2s 3ms/step - loss: 0.0484 - accuracy: 0.8672\n",
            "Epoch 96/100\n",
            "753/753 [==============================] - 2s 3ms/step - loss: 0.0478 - accuracy: 0.8694\n",
            "Epoch 97/100\n",
            "753/753 [==============================] - 2s 3ms/step - loss: 0.0477 - accuracy: 0.8704\n",
            "Epoch 98/100\n",
            "753/753 [==============================] - 2s 3ms/step - loss: 0.0484 - accuracy: 0.8690\n",
            "Epoch 99/100\n",
            "753/753 [==============================] - 2s 3ms/step - loss: 0.0486 - accuracy: 0.8669\n",
            "Epoch 100/100\n",
            "753/753 [==============================] - 2s 3ms/step - loss: 0.0484 - accuracy: 0.8682\n"
          ]
        },
        {
          "data": {
            "text/plain": [
              "<keras.callbacks.History at 0x7f7a85914d10>"
            ]
          },
          "execution_count": 23,
          "metadata": {},
          "output_type": "execute_result"
        }
      ],
      "source": [
        "model.compile(optimizer='adam', loss='mean_squared_error',metrics=['accuracy'])\n",
        "model.fit(Xed_train, yed_train, epochs=100)"
      ]
    },
    {
      "cell_type": "code",
      "execution_count": null,
      "metadata": {
        "colab": {
          "base_uri": "https://localhost:8080/"
        },
        "id": "NvDyTFXaNag1",
        "outputId": "4ab0a36b-2ecd-4733-ffe2-e19052628cc8"
      },
      "outputs": [
        {
          "name": "stdout",
          "output_type": "stream",
          "text": [
            "84/84 [==============================] - 0s 2ms/step - loss: 0.1434 - accuracy: 0.6449\n"
          ]
        },
        {
          "data": {
            "text/plain": [
              "[0.1434376984834671, 0.644859790802002]"
            ]
          },
          "execution_count": 24,
          "metadata": {},
          "output_type": "execute_result"
        }
      ],
      "source": [
        "model.evaluate(Xed_test, yed_test)"
      ]
    },
    {
      "cell_type": "markdown",
      "metadata": {
        "id": "xJ4XHtpcZP2j"
      },
      "source": [
        "### with word2vec"
      ]
    },
    {
      "cell_type": "code",
      "execution_count": null,
      "metadata": {
        "id": "QYwdM5FgZUn5"
      },
      "outputs": [],
      "source": [
        "from gensim.models import Word2Vec\n",
        "\n",
        "model = Word2Vec(df_processed['title_new'], window=3, min_count=3, size=100, workers=4)\n",
        "#첫번째 인자 ; 분석하고자 하는 데이터\n",
        "#window => 보고자 하는 양쪽 단어의 수\n",
        "#min_count => 전체 corpus에서 사용 빈도수가 min_count보다 낮은 단어 제외\n",
        "#size => word vector의 크기 :일반적으로 100~300 사이의 값을 사용/\n",
        "#코사인 값을 이용해서 벡터간 유사도 계싼하는 경우가 더 많음\n",
        "# https://radimrehurek.com/gensim/models/word2vec.html"
      ]
    },
    {
      "cell_type": "code",
      "execution_count": null,
      "metadata": {
        "colab": {
          "base_uri": "https://localhost:8080/"
        },
        "id": "uAeIWUpScb4X",
        "outputId": "057592f4-4ded-4648-f6a6-6384869c80ce"
      },
      "outputs": [
        {
          "name": "stdout",
          "output_type": "stream",
          "text": [
            "/bin/bash: gensim: command not found\n"
          ]
        }
      ],
      "source": [
        "!"
      ]
    },
    {
      "cell_type": "code",
      "execution_count": null,
      "metadata": {
        "id": "UpaQLw4ebx_n"
      },
      "outputs": [],
      "source": [
        "from gensim.models import KeyedVectors\n",
        "\n",
        "word_vectors = model.wv\n",
        "word_vectors.save('vectors.kv')\n",
        "reloaded_word_vectors = KeyedVectors.load('vectors.kv')"
      ]
    },
    {
      "cell_type": "code",
      "source": [
        "def return_words(sim_words):\n",
        "  words=[]\n",
        "  for word in sim_words:\n",
        "    words.append(word[0])\n",
        "  return words\n",
        "\n"
      ],
      "metadata": {
        "id": "lphiklfJ1VDT"
      },
      "execution_count": null,
      "outputs": []
    },
    {
      "cell_type": "code",
      "execution_count": null,
      "metadata": {
        "id": "AUWqob5ux_4b",
        "colab": {
          "base_uri": "https://localhost:8080/",
          "height": 656
        },
        "outputId": "f266b627-b33a-4d7b-8b68-8e96bea5b27e"
      },
      "outputs": [
        {
          "output_type": "execute_result",
          "data": {
            "text/plain": [
              "       먹방     운동     뷰티     지식  브이로그\n",
              "0     떡볶이     산소     헤어     투자    일상\n",
              "1     디저트     홈트     웨딩     분양    공부\n",
              "2      치킨     루틴     트릭     센터   무채색\n",
              "3      리얼     전신     리뷰     청라    카페\n",
              "4      불닭     근력    청담동     타워   토론토\n",
              "5      치즈    올인원     셀럽     산업    랩스\n",
              "6      젤리     복근     차홍     정보   직장인\n",
              "7     레시피    에센셜     얼굴     급량    급똥\n",
              "8      라면     하체     진정    가산동   스터디\n",
              "9     사운드     뱃살     머리     동서    마켓\n",
              "10     드랍   햄스트링     살롱     유망    당근\n",
              "11     김밥     허리     성용     고덕    코지\n",
              "12  아이스크림     통증     알로     안양    제본\n",
              "13  불닭볶음면     어깨     민낯    인덕원    일본\n",
              "14    편의점   다이어트     눈썹     금호   신주쿠\n",
              "15     직접     걷기    이시영     임대    하루\n",
              "16     새우     가지     틴트     옥정    브이\n",
              "17     김치   스트레칭     수분  드라이브인    비티\n",
              "18    삼겹살     코어     변신     평택    내복\n",
              "19   양념치킨     무릎     티켓    수원지    도쿄\n",
              "20     집밥     최고     쿠션     타운   몸부림\n",
              "21    까르보     식단   발렌티노     투기    시험\n",
              "22     메롱     상체     패션     공장   중학생\n",
              "23    케이크   프로그램     천연     배곧    기간\n",
              "24     튀김   층간소음     커버     과천    포장\n",
              "25    오르막   트레이닝    팔레트    배곧엠   집안일\n",
              "26   짜파게티     효과    로맨틱     향동    시내\n",
              "27    남포동     방법  파운데이션     분석    자취\n",
              "28    핫도그     핵핵     손톱    아파트   휴학생\n",
              "29     요리     강화    콜라겐     현대    학생\n",
              "30     피자     맨몸     문신    신도시   공부자\n",
              "31    배떡로     근육    섀도우   현재상황    토플\n",
              "32     음식     힙업    브랜드     상가    학교\n",
              "33     조합     매일     이엠    테크노    여행\n",
              "34    치즈볼     덤벨     엠보     착공    다린\n",
              "35    마카롱     바타   디바이스     단지   남포동\n",
              "36     가족     가슴   겟잇뷰티     천안    요리\n",
              "37     딸기  팔굽혀펴기     박스    프라임    야자\n",
              "38     대왕    초보자    여드름    캠퍼스   영종도\n",
              "39    돈까스     덩이     프리    사무실  겨울방학\n",
              "40     배홍     임피    브러쉬     덕비    방학\n",
              "41    초콜릿     중년    체인지     입지   유학생\n",
              "42    가래떡    체지방     스킨     테라  다이어트\n",
              "43     양념     강도    블러셔    세마역    타임\n",
              "44     크림    무조건     엘픽     접근    커플\n",
              "45     초코    엉덩이     던트     평촌   대치동\n",
              "46     까르     세라    속눈썹    에이스    주말\n",
              "47     신전     재활   아이디어     다산    방콕\n",
              "48     메뉴    클로이     토너   오피스텔    육아\n",
              "49     모음    운동복    플러스     진사    사장"
            ],
            "text/html": [
              "\n",
              "  <div id=\"df-7c4439ed-aee9-4838-9a4c-8a5f8b76d3da\">\n",
              "    <div class=\"colab-df-container\">\n",
              "      <div>\n",
              "<style scoped>\n",
              "    .dataframe tbody tr th:only-of-type {\n",
              "        vertical-align: middle;\n",
              "    }\n",
              "\n",
              "    .dataframe tbody tr th {\n",
              "        vertical-align: top;\n",
              "    }\n",
              "\n",
              "    .dataframe thead th {\n",
              "        text-align: right;\n",
              "    }\n",
              "</style>\n",
              "<table border=\"1\" class=\"dataframe\">\n",
              "  <thead>\n",
              "    <tr style=\"text-align: right;\">\n",
              "      <th></th>\n",
              "      <th>먹방</th>\n",
              "      <th>운동</th>\n",
              "      <th>뷰티</th>\n",
              "      <th>지식</th>\n",
              "      <th>브이로그</th>\n",
              "    </tr>\n",
              "  </thead>\n",
              "  <tbody>\n",
              "    <tr>\n",
              "      <th>0</th>\n",
              "      <td>떡볶이</td>\n",
              "      <td>산소</td>\n",
              "      <td>헤어</td>\n",
              "      <td>투자</td>\n",
              "      <td>일상</td>\n",
              "    </tr>\n",
              "    <tr>\n",
              "      <th>1</th>\n",
              "      <td>디저트</td>\n",
              "      <td>홈트</td>\n",
              "      <td>웨딩</td>\n",
              "      <td>분양</td>\n",
              "      <td>공부</td>\n",
              "    </tr>\n",
              "    <tr>\n",
              "      <th>2</th>\n",
              "      <td>치킨</td>\n",
              "      <td>루틴</td>\n",
              "      <td>트릭</td>\n",
              "      <td>센터</td>\n",
              "      <td>무채색</td>\n",
              "    </tr>\n",
              "    <tr>\n",
              "      <th>3</th>\n",
              "      <td>리얼</td>\n",
              "      <td>전신</td>\n",
              "      <td>리뷰</td>\n",
              "      <td>청라</td>\n",
              "      <td>카페</td>\n",
              "    </tr>\n",
              "    <tr>\n",
              "      <th>4</th>\n",
              "      <td>불닭</td>\n",
              "      <td>근력</td>\n",
              "      <td>청담동</td>\n",
              "      <td>타워</td>\n",
              "      <td>토론토</td>\n",
              "    </tr>\n",
              "    <tr>\n",
              "      <th>5</th>\n",
              "      <td>치즈</td>\n",
              "      <td>올인원</td>\n",
              "      <td>셀럽</td>\n",
              "      <td>산업</td>\n",
              "      <td>랩스</td>\n",
              "    </tr>\n",
              "    <tr>\n",
              "      <th>6</th>\n",
              "      <td>젤리</td>\n",
              "      <td>복근</td>\n",
              "      <td>차홍</td>\n",
              "      <td>정보</td>\n",
              "      <td>직장인</td>\n",
              "    </tr>\n",
              "    <tr>\n",
              "      <th>7</th>\n",
              "      <td>레시피</td>\n",
              "      <td>에센셜</td>\n",
              "      <td>얼굴</td>\n",
              "      <td>급량</td>\n",
              "      <td>급똥</td>\n",
              "    </tr>\n",
              "    <tr>\n",
              "      <th>8</th>\n",
              "      <td>라면</td>\n",
              "      <td>하체</td>\n",
              "      <td>진정</td>\n",
              "      <td>가산동</td>\n",
              "      <td>스터디</td>\n",
              "    </tr>\n",
              "    <tr>\n",
              "      <th>9</th>\n",
              "      <td>사운드</td>\n",
              "      <td>뱃살</td>\n",
              "      <td>머리</td>\n",
              "      <td>동서</td>\n",
              "      <td>마켓</td>\n",
              "    </tr>\n",
              "    <tr>\n",
              "      <th>10</th>\n",
              "      <td>드랍</td>\n",
              "      <td>햄스트링</td>\n",
              "      <td>살롱</td>\n",
              "      <td>유망</td>\n",
              "      <td>당근</td>\n",
              "    </tr>\n",
              "    <tr>\n",
              "      <th>11</th>\n",
              "      <td>김밥</td>\n",
              "      <td>허리</td>\n",
              "      <td>성용</td>\n",
              "      <td>고덕</td>\n",
              "      <td>코지</td>\n",
              "    </tr>\n",
              "    <tr>\n",
              "      <th>12</th>\n",
              "      <td>아이스크림</td>\n",
              "      <td>통증</td>\n",
              "      <td>알로</td>\n",
              "      <td>안양</td>\n",
              "      <td>제본</td>\n",
              "    </tr>\n",
              "    <tr>\n",
              "      <th>13</th>\n",
              "      <td>불닭볶음면</td>\n",
              "      <td>어깨</td>\n",
              "      <td>민낯</td>\n",
              "      <td>인덕원</td>\n",
              "      <td>일본</td>\n",
              "    </tr>\n",
              "    <tr>\n",
              "      <th>14</th>\n",
              "      <td>편의점</td>\n",
              "      <td>다이어트</td>\n",
              "      <td>눈썹</td>\n",
              "      <td>금호</td>\n",
              "      <td>신주쿠</td>\n",
              "    </tr>\n",
              "    <tr>\n",
              "      <th>15</th>\n",
              "      <td>직접</td>\n",
              "      <td>걷기</td>\n",
              "      <td>이시영</td>\n",
              "      <td>임대</td>\n",
              "      <td>하루</td>\n",
              "    </tr>\n",
              "    <tr>\n",
              "      <th>16</th>\n",
              "      <td>새우</td>\n",
              "      <td>가지</td>\n",
              "      <td>틴트</td>\n",
              "      <td>옥정</td>\n",
              "      <td>브이</td>\n",
              "    </tr>\n",
              "    <tr>\n",
              "      <th>17</th>\n",
              "      <td>김치</td>\n",
              "      <td>스트레칭</td>\n",
              "      <td>수분</td>\n",
              "      <td>드라이브인</td>\n",
              "      <td>비티</td>\n",
              "    </tr>\n",
              "    <tr>\n",
              "      <th>18</th>\n",
              "      <td>삼겹살</td>\n",
              "      <td>코어</td>\n",
              "      <td>변신</td>\n",
              "      <td>평택</td>\n",
              "      <td>내복</td>\n",
              "    </tr>\n",
              "    <tr>\n",
              "      <th>19</th>\n",
              "      <td>양념치킨</td>\n",
              "      <td>무릎</td>\n",
              "      <td>티켓</td>\n",
              "      <td>수원지</td>\n",
              "      <td>도쿄</td>\n",
              "    </tr>\n",
              "    <tr>\n",
              "      <th>20</th>\n",
              "      <td>집밥</td>\n",
              "      <td>최고</td>\n",
              "      <td>쿠션</td>\n",
              "      <td>타운</td>\n",
              "      <td>몸부림</td>\n",
              "    </tr>\n",
              "    <tr>\n",
              "      <th>21</th>\n",
              "      <td>까르보</td>\n",
              "      <td>식단</td>\n",
              "      <td>발렌티노</td>\n",
              "      <td>투기</td>\n",
              "      <td>시험</td>\n",
              "    </tr>\n",
              "    <tr>\n",
              "      <th>22</th>\n",
              "      <td>메롱</td>\n",
              "      <td>상체</td>\n",
              "      <td>패션</td>\n",
              "      <td>공장</td>\n",
              "      <td>중학생</td>\n",
              "    </tr>\n",
              "    <tr>\n",
              "      <th>23</th>\n",
              "      <td>케이크</td>\n",
              "      <td>프로그램</td>\n",
              "      <td>천연</td>\n",
              "      <td>배곧</td>\n",
              "      <td>기간</td>\n",
              "    </tr>\n",
              "    <tr>\n",
              "      <th>24</th>\n",
              "      <td>튀김</td>\n",
              "      <td>층간소음</td>\n",
              "      <td>커버</td>\n",
              "      <td>과천</td>\n",
              "      <td>포장</td>\n",
              "    </tr>\n",
              "    <tr>\n",
              "      <th>25</th>\n",
              "      <td>오르막</td>\n",
              "      <td>트레이닝</td>\n",
              "      <td>팔레트</td>\n",
              "      <td>배곧엠</td>\n",
              "      <td>집안일</td>\n",
              "    </tr>\n",
              "    <tr>\n",
              "      <th>26</th>\n",
              "      <td>짜파게티</td>\n",
              "      <td>효과</td>\n",
              "      <td>로맨틱</td>\n",
              "      <td>향동</td>\n",
              "      <td>시내</td>\n",
              "    </tr>\n",
              "    <tr>\n",
              "      <th>27</th>\n",
              "      <td>남포동</td>\n",
              "      <td>방법</td>\n",
              "      <td>파운데이션</td>\n",
              "      <td>분석</td>\n",
              "      <td>자취</td>\n",
              "    </tr>\n",
              "    <tr>\n",
              "      <th>28</th>\n",
              "      <td>핫도그</td>\n",
              "      <td>핵핵</td>\n",
              "      <td>손톱</td>\n",
              "      <td>아파트</td>\n",
              "      <td>휴학생</td>\n",
              "    </tr>\n",
              "    <tr>\n",
              "      <th>29</th>\n",
              "      <td>요리</td>\n",
              "      <td>강화</td>\n",
              "      <td>콜라겐</td>\n",
              "      <td>현대</td>\n",
              "      <td>학생</td>\n",
              "    </tr>\n",
              "    <tr>\n",
              "      <th>30</th>\n",
              "      <td>피자</td>\n",
              "      <td>맨몸</td>\n",
              "      <td>문신</td>\n",
              "      <td>신도시</td>\n",
              "      <td>공부자</td>\n",
              "    </tr>\n",
              "    <tr>\n",
              "      <th>31</th>\n",
              "      <td>배떡로</td>\n",
              "      <td>근육</td>\n",
              "      <td>섀도우</td>\n",
              "      <td>현재상황</td>\n",
              "      <td>토플</td>\n",
              "    </tr>\n",
              "    <tr>\n",
              "      <th>32</th>\n",
              "      <td>음식</td>\n",
              "      <td>힙업</td>\n",
              "      <td>브랜드</td>\n",
              "      <td>상가</td>\n",
              "      <td>학교</td>\n",
              "    </tr>\n",
              "    <tr>\n",
              "      <th>33</th>\n",
              "      <td>조합</td>\n",
              "      <td>매일</td>\n",
              "      <td>이엠</td>\n",
              "      <td>테크노</td>\n",
              "      <td>여행</td>\n",
              "    </tr>\n",
              "    <tr>\n",
              "      <th>34</th>\n",
              "      <td>치즈볼</td>\n",
              "      <td>덤벨</td>\n",
              "      <td>엠보</td>\n",
              "      <td>착공</td>\n",
              "      <td>다린</td>\n",
              "    </tr>\n",
              "    <tr>\n",
              "      <th>35</th>\n",
              "      <td>마카롱</td>\n",
              "      <td>바타</td>\n",
              "      <td>디바이스</td>\n",
              "      <td>단지</td>\n",
              "      <td>남포동</td>\n",
              "    </tr>\n",
              "    <tr>\n",
              "      <th>36</th>\n",
              "      <td>가족</td>\n",
              "      <td>가슴</td>\n",
              "      <td>겟잇뷰티</td>\n",
              "      <td>천안</td>\n",
              "      <td>요리</td>\n",
              "    </tr>\n",
              "    <tr>\n",
              "      <th>37</th>\n",
              "      <td>딸기</td>\n",
              "      <td>팔굽혀펴기</td>\n",
              "      <td>박스</td>\n",
              "      <td>프라임</td>\n",
              "      <td>야자</td>\n",
              "    </tr>\n",
              "    <tr>\n",
              "      <th>38</th>\n",
              "      <td>대왕</td>\n",
              "      <td>초보자</td>\n",
              "      <td>여드름</td>\n",
              "      <td>캠퍼스</td>\n",
              "      <td>영종도</td>\n",
              "    </tr>\n",
              "    <tr>\n",
              "      <th>39</th>\n",
              "      <td>돈까스</td>\n",
              "      <td>덩이</td>\n",
              "      <td>프리</td>\n",
              "      <td>사무실</td>\n",
              "      <td>겨울방학</td>\n",
              "    </tr>\n",
              "    <tr>\n",
              "      <th>40</th>\n",
              "      <td>배홍</td>\n",
              "      <td>임피</td>\n",
              "      <td>브러쉬</td>\n",
              "      <td>덕비</td>\n",
              "      <td>방학</td>\n",
              "    </tr>\n",
              "    <tr>\n",
              "      <th>41</th>\n",
              "      <td>초콜릿</td>\n",
              "      <td>중년</td>\n",
              "      <td>체인지</td>\n",
              "      <td>입지</td>\n",
              "      <td>유학생</td>\n",
              "    </tr>\n",
              "    <tr>\n",
              "      <th>42</th>\n",
              "      <td>가래떡</td>\n",
              "      <td>체지방</td>\n",
              "      <td>스킨</td>\n",
              "      <td>테라</td>\n",
              "      <td>다이어트</td>\n",
              "    </tr>\n",
              "    <tr>\n",
              "      <th>43</th>\n",
              "      <td>양념</td>\n",
              "      <td>강도</td>\n",
              "      <td>블러셔</td>\n",
              "      <td>세마역</td>\n",
              "      <td>타임</td>\n",
              "    </tr>\n",
              "    <tr>\n",
              "      <th>44</th>\n",
              "      <td>크림</td>\n",
              "      <td>무조건</td>\n",
              "      <td>엘픽</td>\n",
              "      <td>접근</td>\n",
              "      <td>커플</td>\n",
              "    </tr>\n",
              "    <tr>\n",
              "      <th>45</th>\n",
              "      <td>초코</td>\n",
              "      <td>엉덩이</td>\n",
              "      <td>던트</td>\n",
              "      <td>평촌</td>\n",
              "      <td>대치동</td>\n",
              "    </tr>\n",
              "    <tr>\n",
              "      <th>46</th>\n",
              "      <td>까르</td>\n",
              "      <td>세라</td>\n",
              "      <td>속눈썹</td>\n",
              "      <td>에이스</td>\n",
              "      <td>주말</td>\n",
              "    </tr>\n",
              "    <tr>\n",
              "      <th>47</th>\n",
              "      <td>신전</td>\n",
              "      <td>재활</td>\n",
              "      <td>아이디어</td>\n",
              "      <td>다산</td>\n",
              "      <td>방콕</td>\n",
              "    </tr>\n",
              "    <tr>\n",
              "      <th>48</th>\n",
              "      <td>메뉴</td>\n",
              "      <td>클로이</td>\n",
              "      <td>토너</td>\n",
              "      <td>오피스텔</td>\n",
              "      <td>육아</td>\n",
              "    </tr>\n",
              "    <tr>\n",
              "      <th>49</th>\n",
              "      <td>모음</td>\n",
              "      <td>운동복</td>\n",
              "      <td>플러스</td>\n",
              "      <td>진사</td>\n",
              "      <td>사장</td>\n",
              "    </tr>\n",
              "  </tbody>\n",
              "</table>\n",
              "</div>\n",
              "      <button class=\"colab-df-convert\" onclick=\"convertToInteractive('df-7c4439ed-aee9-4838-9a4c-8a5f8b76d3da')\"\n",
              "              title=\"Convert this dataframe to an interactive table.\"\n",
              "              style=\"display:none;\">\n",
              "        \n",
              "  <svg xmlns=\"http://www.w3.org/2000/svg\" height=\"24px\"viewBox=\"0 0 24 24\"\n",
              "       width=\"24px\">\n",
              "    <path d=\"M0 0h24v24H0V0z\" fill=\"none\"/>\n",
              "    <path d=\"M18.56 5.44l.94 2.06.94-2.06 2.06-.94-2.06-.94-.94-2.06-.94 2.06-2.06.94zm-11 1L8.5 8.5l.94-2.06 2.06-.94-2.06-.94L8.5 2.5l-.94 2.06-2.06.94zm10 10l.94 2.06.94-2.06 2.06-.94-2.06-.94-.94-2.06-.94 2.06-2.06.94z\"/><path d=\"M17.41 7.96l-1.37-1.37c-.4-.4-.92-.59-1.43-.59-.52 0-1.04.2-1.43.59L10.3 9.45l-7.72 7.72c-.78.78-.78 2.05 0 2.83L4 21.41c.39.39.9.59 1.41.59.51 0 1.02-.2 1.41-.59l7.78-7.78 2.81-2.81c.8-.78.8-2.07 0-2.86zM5.41 20L4 18.59l7.72-7.72 1.47 1.35L5.41 20z\"/>\n",
              "  </svg>\n",
              "      </button>\n",
              "      \n",
              "  <style>\n",
              "    .colab-df-container {\n",
              "      display:flex;\n",
              "      flex-wrap:wrap;\n",
              "      gap: 12px;\n",
              "    }\n",
              "\n",
              "    .colab-df-convert {\n",
              "      background-color: #E8F0FE;\n",
              "      border: none;\n",
              "      border-radius: 50%;\n",
              "      cursor: pointer;\n",
              "      display: none;\n",
              "      fill: #1967D2;\n",
              "      height: 32px;\n",
              "      padding: 0 0 0 0;\n",
              "      width: 32px;\n",
              "    }\n",
              "\n",
              "    .colab-df-convert:hover {\n",
              "      background-color: #E2EBFA;\n",
              "      box-shadow: 0px 1px 2px rgba(60, 64, 67, 0.3), 0px 1px 3px 1px rgba(60, 64, 67, 0.15);\n",
              "      fill: #174EA6;\n",
              "    }\n",
              "\n",
              "    [theme=dark] .colab-df-convert {\n",
              "      background-color: #3B4455;\n",
              "      fill: #D2E3FC;\n",
              "    }\n",
              "\n",
              "    [theme=dark] .colab-df-convert:hover {\n",
              "      background-color: #434B5C;\n",
              "      box-shadow: 0px 1px 3px 1px rgba(0, 0, 0, 0.15);\n",
              "      filter: drop-shadow(0px 1px 2px rgba(0, 0, 0, 0.3));\n",
              "      fill: #FFFFFF;\n",
              "    }\n",
              "  </style>\n",
              "\n",
              "      <script>\n",
              "        const buttonEl =\n",
              "          document.querySelector('#df-7c4439ed-aee9-4838-9a4c-8a5f8b76d3da button.colab-df-convert');\n",
              "        buttonEl.style.display =\n",
              "          google.colab.kernel.accessAllowed ? 'block' : 'none';\n",
              "\n",
              "        async function convertToInteractive(key) {\n",
              "          const element = document.querySelector('#df-7c4439ed-aee9-4838-9a4c-8a5f8b76d3da');\n",
              "          const dataTable =\n",
              "            await google.colab.kernel.invokeFunction('convertToInteractive',\n",
              "                                                     [key], {});\n",
              "          if (!dataTable) return;\n",
              "\n",
              "          const docLinkHtml = 'Like what you see? Visit the ' +\n",
              "            '<a target=\"_blank\" href=https://colab.research.google.com/notebooks/data_table.ipynb>data table notebook</a>'\n",
              "            + ' to learn more about interactive tables.';\n",
              "          element.innerHTML = '';\n",
              "          dataTable['output_type'] = 'display_data';\n",
              "          await google.colab.output.renderOutput(dataTable, element);\n",
              "          const docLink = document.createElement('div');\n",
              "          docLink.innerHTML = docLinkHtml;\n",
              "          element.appendChild(docLink);\n",
              "        }\n",
              "      </script>\n",
              "    </div>\n",
              "  </div>\n",
              "  "
            ]
          },
          "metadata": {},
          "execution_count": 26
        }
      ],
      "source": [
        "w2v_res = pd.DataFrame(columns=['먹방','운동','뷰티','지식','브이로그'])\n",
        "w2v_res['먹방'] = return_words(model.wv.similar_by_word('먹방',topn=50))\n",
        "w2v_res['운동'] = return_words(model.wv.similar_by_word('운동',topn=50))\n",
        "w2v_res['뷰티'] = return_words(model.wv.similar_by_word('메이크업',topn=50))\n",
        "w2v_res['지식'] = return_words(model.wv.similar_by_word('지식',topn=50))\n",
        "w2v_res['브이로그'] = return_words(model.wv.similar_by_word('로그',topn=50))\n",
        "w2v_res"
      ]
    },
    {
      "cell_type": "code",
      "source": [
        "model.wv.similar_by_word('과천',topn=50)"
      ],
      "metadata": {
        "colab": {
          "base_uri": "https://localhost:8080/"
        },
        "id": "BiXY4L0T254z",
        "outputId": "3aafeb4b-cf0e-4e9c-bc07-a879c5425e6c"
      },
      "execution_count": null,
      "outputs": [
        {
          "output_type": "execute_result",
          "data": {
            "text/plain": [
              "[('타운', 0.9994974732398987),\n",
              " ('상가', 0.9981666803359985),\n",
              " ('배곧', 0.9980620741844177),\n",
              " ('분석', 0.9979628920555115),\n",
              " ('아파트', 0.9978680610656738),\n",
              " ('향동', 0.9978657960891724),\n",
              " ('신도시', 0.9978625774383545),\n",
              " ('공장', 0.9977713227272034),\n",
              " ('현대', 0.9977194666862488),\n",
              " ('단지', 0.9974903464317322),\n",
              " ('테크노', 0.9974736571311951),\n",
              " ('평택', 0.9974135160446167),\n",
              " ('천안', 0.9973853826522827),\n",
              " ('캠퍼스', 0.997384250164032),\n",
              " ('드라이브인', 0.9973188638687134),\n",
              " ('프라임', 0.9971895217895508),\n",
              " ('테라', 0.9970800280570984),\n",
              " ('사무실', 0.9968219995498657),\n",
              " ('에이스', 0.9968173503875732),\n",
              " ('입지', 0.9967910647392273),\n",
              " ('다산', 0.9965282678604126),\n",
              " ('세마역', 0.9964801073074341),\n",
              " ('평촌', 0.9964709281921387),\n",
              " ('오피스텔', 0.9960968494415283),\n",
              " ('임대', 0.9960734844207764),\n",
              " ('현장', 0.9958606958389282),\n",
              " ('블럭', 0.9955324530601501),\n",
              " ('옥정', 0.9954339861869812),\n",
              " ('프리미어', 0.9952459931373596),\n",
              " ('비즈', 0.9946597218513489),\n",
              " ('시티', 0.9946438074111938),\n",
              " ('퍼블릭', 0.9944472312927246),\n",
              " ('안양', 0.9942562580108643),\n",
              " ('밸리', 0.9938727617263794),\n",
              " ('매매', 0.9937304258346558),\n",
              " ('엑스포', 0.9934613704681396),\n",
              " ('고덕', 0.9933860301971436),\n",
              " ('안내', 0.993255615234375),\n",
              " ('수원지', 0.9932267665863037),\n",
              " ('광명', 0.9932236671447754),\n",
              " ('하남', 0.9931257367134094),\n",
              " ('센트럴', 0.9929584264755249),\n",
              " ('접근', 0.9928585290908813),\n",
              " ('센텀', 0.9927178621292114),\n",
              " ('구로', 0.992700457572937),\n",
              " ('재산', 0.9925903081893921),\n",
              " ('가산', 0.9925788044929504),\n",
              " ('투기', 0.9925462007522583),\n",
              " ('공작', 0.9925298690795898),\n",
              " ('인덕원', 0.9915263652801514)]"
            ]
          },
          "metadata": {},
          "execution_count": 27
        }
      ]
    },
    {
      "cell_type": "code",
      "execution_count": null,
      "metadata": {
        "id": "9QpsVFIAawT7"
      },
      "outputs": [],
      "source": [
        "# 유사도 기준 군집화분석\n",
        "\n",
        "words = list(model.wv.index2word)\n",
        "words_matrix = model.wv[words]\n",
        "\n",
        "from sklearn.cluster import KMeans\n",
        "kmeans = KMeans(n_clusters=10, max_iter=100)\n",
        "clusters = kmeans.fit_predict(words_matrix) # KMeans 알고리즘으로 학습\n",
        "\n",
        "for index, cluster_id in enumerate(clusters):\n",
        "    if cluster_id==2:\n",
        "        print(cluster_id, words[index])"
      ]
    },
    {
      "cell_type": "code",
      "execution_count": null,
      "metadata": {
        "colab": {
          "base_uri": "https://localhost:8080/"
        },
        "id": "FeDGmoMgecOM",
        "outputId": "4b6468d2-48ee-45fd-ac16-1c612f1e61a1"
      },
      "outputs": [
        {
          "data": {
            "text/plain": [
              "numpy.ndarray"
            ]
          },
          "execution_count": 34,
          "metadata": {},
          "output_type": "execute_result"
        }
      ],
      "source": [
        "type(words_matrix)"
      ]
    },
    {
      "cell_type": "code",
      "execution_count": null,
      "metadata": {
        "colab": {
          "base_uri": "https://localhost:8080/"
        },
        "id": "fybEn0oEeqNQ",
        "outputId": "8379a66d-5802-47df-9944-c1d4db2b5153"
      },
      "outputs": [
        {
          "data": {
            "text/plain": [
              "(8387, 100)"
            ]
          },
          "execution_count": 38,
          "metadata": {},
          "output_type": "execute_result"
        }
      ],
      "source": [
        "words_matrix.shape"
      ]
    },
    {
      "cell_type": "code",
      "execution_count": null,
      "metadata": {
        "colab": {
          "base_uri": "https://localhost:8080/"
        },
        "id": "U4mSocJggICv",
        "outputId": "5cb91340-8325-4a1e-91ab-66fb1751f2db"
      },
      "outputs": [
        {
          "data": {
            "text/plain": [
              "(26742, 1500)"
            ]
          },
          "execution_count": 16,
          "metadata": {},
          "output_type": "execute_result"
        }
      ],
      "source": [
        "tf_vectorizer = CountVectorizer(min_df=10, ngram_range=(1,2), max_features = 1500)\n",
        "tf_features = tf_vectorizer.fit_transform(df_processed['title_str'])\n",
        "tf_features = np.array(tf_features.todense())\n",
        "tf_features.shape"
      ]
    },
    {
      "cell_type": "code",
      "execution_count": null,
      "metadata": {
        "colab": {
          "base_uri": "https://localhost:8080/"
        },
        "id": "ZfN8F-5dg5tx",
        "outputId": "9af339bb-b528-4d0e-ca70-16fdaa1e788d"
      },
      "outputs": [
        {
          "data": {
            "text/plain": [
              "0       0\n",
              "1       0\n",
              "2       0\n",
              "3       0\n",
              "4       0\n",
              "       ..\n",
              "1495    0\n",
              "1496    0\n",
              "1497    0\n",
              "1498    0\n",
              "1499    0\n",
              "Length: 1500, dtype: int64"
            ]
          },
          "execution_count": 46,
          "metadata": {},
          "output_type": "execute_result"
        }
      ],
      "source": [
        "tf.isna().sum()"
      ]
    },
    {
      "cell_type": "code",
      "execution_count": null,
      "metadata": {
        "id": "pfNADohgeUUB"
      },
      "outputs": [],
      "source": [
        "tf = pd.DataFrame(tf_features)\n",
        "X3 = pd.concat([tf, df_processed[['subs','emoji_label','publish_time']]], axis = 1)\n",
        "y3 = df_processed['view_lv']"
      ]
    },
    {
      "cell_type": "code",
      "execution_count": null,
      "metadata": {
        "colab": {
          "base_uri": "https://localhost:8080/",
          "height": 424
        },
        "id": "xuH3ZQf9enUN",
        "outputId": "a9212a42-628d-4dbc-c5b6-bd82ebe11e2f"
      },
      "outputs": [
        {
          "data": {
            "text/html": [
              "\n",
              "  <div id=\"df-3b7796ed-40b1-41c0-bb6a-f83dc4770473\">\n",
              "    <div class=\"colab-df-container\">\n",
              "      <div>\n",
              "<style scoped>\n",
              "    .dataframe tbody tr th:only-of-type {\n",
              "        vertical-align: middle;\n",
              "    }\n",
              "\n",
              "    .dataframe tbody tr th {\n",
              "        vertical-align: top;\n",
              "    }\n",
              "\n",
              "    .dataframe thead th {\n",
              "        text-align: right;\n",
              "    }\n",
              "</style>\n",
              "<table border=\"1\" class=\"dataframe\">\n",
              "  <thead>\n",
              "    <tr style=\"text-align: right;\">\n",
              "      <th></th>\n",
              "      <th>0</th>\n",
              "      <th>1</th>\n",
              "      <th>2</th>\n",
              "      <th>3</th>\n",
              "      <th>4</th>\n",
              "      <th>5</th>\n",
              "      <th>6</th>\n",
              "      <th>7</th>\n",
              "      <th>8</th>\n",
              "      <th>9</th>\n",
              "      <th>...</th>\n",
              "      <th>1493</th>\n",
              "      <th>1494</th>\n",
              "      <th>1495</th>\n",
              "      <th>1496</th>\n",
              "      <th>1497</th>\n",
              "      <th>1498</th>\n",
              "      <th>1499</th>\n",
              "      <th>subs</th>\n",
              "      <th>emoji_label</th>\n",
              "      <th>publish_time</th>\n",
              "    </tr>\n",
              "  </thead>\n",
              "  <tbody>\n",
              "    <tr>\n",
              "      <th>0</th>\n",
              "      <td>0</td>\n",
              "      <td>0</td>\n",
              "      <td>0</td>\n",
              "      <td>0</td>\n",
              "      <td>0</td>\n",
              "      <td>0</td>\n",
              "      <td>0</td>\n",
              "      <td>0</td>\n",
              "      <td>0</td>\n",
              "      <td>0</td>\n",
              "      <td>...</td>\n",
              "      <td>0</td>\n",
              "      <td>0</td>\n",
              "      <td>0</td>\n",
              "      <td>0</td>\n",
              "      <td>0</td>\n",
              "      <td>0</td>\n",
              "      <td>0</td>\n",
              "      <td>1960000.0</td>\n",
              "      <td>0</td>\n",
              "      <td>202205</td>\n",
              "    </tr>\n",
              "    <tr>\n",
              "      <th>1</th>\n",
              "      <td>0</td>\n",
              "      <td>0</td>\n",
              "      <td>0</td>\n",
              "      <td>0</td>\n",
              "      <td>0</td>\n",
              "      <td>0</td>\n",
              "      <td>0</td>\n",
              "      <td>0</td>\n",
              "      <td>0</td>\n",
              "      <td>0</td>\n",
              "      <td>...</td>\n",
              "      <td>0</td>\n",
              "      <td>0</td>\n",
              "      <td>0</td>\n",
              "      <td>0</td>\n",
              "      <td>0</td>\n",
              "      <td>0</td>\n",
              "      <td>0</td>\n",
              "      <td>352000.0</td>\n",
              "      <td>1</td>\n",
              "      <td>202205</td>\n",
              "    </tr>\n",
              "    <tr>\n",
              "      <th>2</th>\n",
              "      <td>0</td>\n",
              "      <td>0</td>\n",
              "      <td>0</td>\n",
              "      <td>0</td>\n",
              "      <td>0</td>\n",
              "      <td>0</td>\n",
              "      <td>0</td>\n",
              "      <td>0</td>\n",
              "      <td>0</td>\n",
              "      <td>0</td>\n",
              "      <td>...</td>\n",
              "      <td>0</td>\n",
              "      <td>0</td>\n",
              "      <td>0</td>\n",
              "      <td>0</td>\n",
              "      <td>0</td>\n",
              "      <td>0</td>\n",
              "      <td>0</td>\n",
              "      <td>159000.0</td>\n",
              "      <td>0</td>\n",
              "      <td>202205</td>\n",
              "    </tr>\n",
              "    <tr>\n",
              "      <th>3</th>\n",
              "      <td>0</td>\n",
              "      <td>0</td>\n",
              "      <td>0</td>\n",
              "      <td>0</td>\n",
              "      <td>0</td>\n",
              "      <td>0</td>\n",
              "      <td>0</td>\n",
              "      <td>0</td>\n",
              "      <td>0</td>\n",
              "      <td>0</td>\n",
              "      <td>...</td>\n",
              "      <td>0</td>\n",
              "      <td>0</td>\n",
              "      <td>0</td>\n",
              "      <td>0</td>\n",
              "      <td>0</td>\n",
              "      <td>0</td>\n",
              "      <td>0</td>\n",
              "      <td>250000.0</td>\n",
              "      <td>0</td>\n",
              "      <td>202205</td>\n",
              "    </tr>\n",
              "    <tr>\n",
              "      <th>4</th>\n",
              "      <td>0</td>\n",
              "      <td>0</td>\n",
              "      <td>0</td>\n",
              "      <td>0</td>\n",
              "      <td>0</td>\n",
              "      <td>0</td>\n",
              "      <td>0</td>\n",
              "      <td>0</td>\n",
              "      <td>0</td>\n",
              "      <td>0</td>\n",
              "      <td>...</td>\n",
              "      <td>0</td>\n",
              "      <td>0</td>\n",
              "      <td>0</td>\n",
              "      <td>0</td>\n",
              "      <td>0</td>\n",
              "      <td>0</td>\n",
              "      <td>0</td>\n",
              "      <td>133000.0</td>\n",
              "      <td>0</td>\n",
              "      <td>202205</td>\n",
              "    </tr>\n",
              "    <tr>\n",
              "      <th>...</th>\n",
              "      <td>...</td>\n",
              "      <td>...</td>\n",
              "      <td>...</td>\n",
              "      <td>...</td>\n",
              "      <td>...</td>\n",
              "      <td>...</td>\n",
              "      <td>...</td>\n",
              "      <td>...</td>\n",
              "      <td>...</td>\n",
              "      <td>...</td>\n",
              "      <td>...</td>\n",
              "      <td>...</td>\n",
              "      <td>...</td>\n",
              "      <td>...</td>\n",
              "      <td>...</td>\n",
              "      <td>...</td>\n",
              "      <td>...</td>\n",
              "      <td>...</td>\n",
              "      <td>...</td>\n",
              "      <td>...</td>\n",
              "      <td>...</td>\n",
              "    </tr>\n",
              "    <tr>\n",
              "      <th>26737</th>\n",
              "      <td>0</td>\n",
              "      <td>0</td>\n",
              "      <td>0</td>\n",
              "      <td>0</td>\n",
              "      <td>0</td>\n",
              "      <td>0</td>\n",
              "      <td>0</td>\n",
              "      <td>0</td>\n",
              "      <td>0</td>\n",
              "      <td>0</td>\n",
              "      <td>...</td>\n",
              "      <td>0</td>\n",
              "      <td>0</td>\n",
              "      <td>0</td>\n",
              "      <td>0</td>\n",
              "      <td>0</td>\n",
              "      <td>0</td>\n",
              "      <td>0</td>\n",
              "      <td>102000.0</td>\n",
              "      <td>0</td>\n",
              "      <td>202002</td>\n",
              "    </tr>\n",
              "    <tr>\n",
              "      <th>26738</th>\n",
              "      <td>0</td>\n",
              "      <td>0</td>\n",
              "      <td>0</td>\n",
              "      <td>0</td>\n",
              "      <td>0</td>\n",
              "      <td>0</td>\n",
              "      <td>0</td>\n",
              "      <td>0</td>\n",
              "      <td>0</td>\n",
              "      <td>0</td>\n",
              "      <td>...</td>\n",
              "      <td>0</td>\n",
              "      <td>0</td>\n",
              "      <td>0</td>\n",
              "      <td>0</td>\n",
              "      <td>0</td>\n",
              "      <td>0</td>\n",
              "      <td>0</td>\n",
              "      <td>522.0</td>\n",
              "      <td>0</td>\n",
              "      <td>202002</td>\n",
              "    </tr>\n",
              "    <tr>\n",
              "      <th>26739</th>\n",
              "      <td>0</td>\n",
              "      <td>0</td>\n",
              "      <td>0</td>\n",
              "      <td>0</td>\n",
              "      <td>0</td>\n",
              "      <td>0</td>\n",
              "      <td>0</td>\n",
              "      <td>0</td>\n",
              "      <td>0</td>\n",
              "      <td>0</td>\n",
              "      <td>...</td>\n",
              "      <td>0</td>\n",
              "      <td>0</td>\n",
              "      <td>0</td>\n",
              "      <td>0</td>\n",
              "      <td>0</td>\n",
              "      <td>0</td>\n",
              "      <td>0</td>\n",
              "      <td>522.0</td>\n",
              "      <td>0</td>\n",
              "      <td>202002</td>\n",
              "    </tr>\n",
              "    <tr>\n",
              "      <th>26740</th>\n",
              "      <td>0</td>\n",
              "      <td>0</td>\n",
              "      <td>0</td>\n",
              "      <td>0</td>\n",
              "      <td>0</td>\n",
              "      <td>0</td>\n",
              "      <td>0</td>\n",
              "      <td>0</td>\n",
              "      <td>0</td>\n",
              "      <td>0</td>\n",
              "      <td>...</td>\n",
              "      <td>0</td>\n",
              "      <td>0</td>\n",
              "      <td>0</td>\n",
              "      <td>0</td>\n",
              "      <td>0</td>\n",
              "      <td>0</td>\n",
              "      <td>0</td>\n",
              "      <td>1070000.0</td>\n",
              "      <td>0</td>\n",
              "      <td>202002</td>\n",
              "    </tr>\n",
              "    <tr>\n",
              "      <th>26741</th>\n",
              "      <td>0</td>\n",
              "      <td>0</td>\n",
              "      <td>0</td>\n",
              "      <td>0</td>\n",
              "      <td>0</td>\n",
              "      <td>0</td>\n",
              "      <td>0</td>\n",
              "      <td>0</td>\n",
              "      <td>0</td>\n",
              "      <td>0</td>\n",
              "      <td>...</td>\n",
              "      <td>0</td>\n",
              "      <td>0</td>\n",
              "      <td>0</td>\n",
              "      <td>0</td>\n",
              "      <td>0</td>\n",
              "      <td>0</td>\n",
              "      <td>0</td>\n",
              "      <td>522.0</td>\n",
              "      <td>0</td>\n",
              "      <td>202002</td>\n",
              "    </tr>\n",
              "  </tbody>\n",
              "</table>\n",
              "<p>26742 rows × 1503 columns</p>\n",
              "</div>\n",
              "      <button class=\"colab-df-convert\" onclick=\"convertToInteractive('df-3b7796ed-40b1-41c0-bb6a-f83dc4770473')\"\n",
              "              title=\"Convert this dataframe to an interactive table.\"\n",
              "              style=\"display:none;\">\n",
              "        \n",
              "  <svg xmlns=\"http://www.w3.org/2000/svg\" height=\"24px\"viewBox=\"0 0 24 24\"\n",
              "       width=\"24px\">\n",
              "    <path d=\"M0 0h24v24H0V0z\" fill=\"none\"/>\n",
              "    <path d=\"M18.56 5.44l.94 2.06.94-2.06 2.06-.94-2.06-.94-.94-2.06-.94 2.06-2.06.94zm-11 1L8.5 8.5l.94-2.06 2.06-.94-2.06-.94L8.5 2.5l-.94 2.06-2.06.94zm10 10l.94 2.06.94-2.06 2.06-.94-2.06-.94-.94-2.06-.94 2.06-2.06.94z\"/><path d=\"M17.41 7.96l-1.37-1.37c-.4-.4-.92-.59-1.43-.59-.52 0-1.04.2-1.43.59L10.3 9.45l-7.72 7.72c-.78.78-.78 2.05 0 2.83L4 21.41c.39.39.9.59 1.41.59.51 0 1.02-.2 1.41-.59l7.78-7.78 2.81-2.81c.8-.78.8-2.07 0-2.86zM5.41 20L4 18.59l7.72-7.72 1.47 1.35L5.41 20z\"/>\n",
              "  </svg>\n",
              "      </button>\n",
              "      \n",
              "  <style>\n",
              "    .colab-df-container {\n",
              "      display:flex;\n",
              "      flex-wrap:wrap;\n",
              "      gap: 12px;\n",
              "    }\n",
              "\n",
              "    .colab-df-convert {\n",
              "      background-color: #E8F0FE;\n",
              "      border: none;\n",
              "      border-radius: 50%;\n",
              "      cursor: pointer;\n",
              "      display: none;\n",
              "      fill: #1967D2;\n",
              "      height: 32px;\n",
              "      padding: 0 0 0 0;\n",
              "      width: 32px;\n",
              "    }\n",
              "\n",
              "    .colab-df-convert:hover {\n",
              "      background-color: #E2EBFA;\n",
              "      box-shadow: 0px 1px 2px rgba(60, 64, 67, 0.3), 0px 1px 3px 1px rgba(60, 64, 67, 0.15);\n",
              "      fill: #174EA6;\n",
              "    }\n",
              "\n",
              "    [theme=dark] .colab-df-convert {\n",
              "      background-color: #3B4455;\n",
              "      fill: #D2E3FC;\n",
              "    }\n",
              "\n",
              "    [theme=dark] .colab-df-convert:hover {\n",
              "      background-color: #434B5C;\n",
              "      box-shadow: 0px 1px 3px 1px rgba(0, 0, 0, 0.15);\n",
              "      filter: drop-shadow(0px 1px 2px rgba(0, 0, 0, 0.3));\n",
              "      fill: #FFFFFF;\n",
              "    }\n",
              "  </style>\n",
              "\n",
              "      <script>\n",
              "        const buttonEl =\n",
              "          document.querySelector('#df-3b7796ed-40b1-41c0-bb6a-f83dc4770473 button.colab-df-convert');\n",
              "        buttonEl.style.display =\n",
              "          google.colab.kernel.accessAllowed ? 'block' : 'none';\n",
              "\n",
              "        async function convertToInteractive(key) {\n",
              "          const element = document.querySelector('#df-3b7796ed-40b1-41c0-bb6a-f83dc4770473');\n",
              "          const dataTable =\n",
              "            await google.colab.kernel.invokeFunction('convertToInteractive',\n",
              "                                                     [key], {});\n",
              "          if (!dataTable) return;\n",
              "\n",
              "          const docLinkHtml = 'Like what you see? Visit the ' +\n",
              "            '<a target=\"_blank\" href=https://colab.research.google.com/notebooks/data_table.ipynb>data table notebook</a>'\n",
              "            + ' to learn more about interactive tables.';\n",
              "          element.innerHTML = '';\n",
              "          dataTable['output_type'] = 'display_data';\n",
              "          await google.colab.output.renderOutput(dataTable, element);\n",
              "          const docLink = document.createElement('div');\n",
              "          docLink.innerHTML = docLinkHtml;\n",
              "          element.appendChild(docLink);\n",
              "        }\n",
              "      </script>\n",
              "    </div>\n",
              "  </div>\n",
              "  "
            ],
            "text/plain": [
              "       0  1  2  3  4  5  6  7  8  9  ...  1493  1494  1495  1496  1497  1498  \\\n",
              "0      0  0  0  0  0  0  0  0  0  0  ...     0     0     0     0     0     0   \n",
              "1      0  0  0  0  0  0  0  0  0  0  ...     0     0     0     0     0     0   \n",
              "2      0  0  0  0  0  0  0  0  0  0  ...     0     0     0     0     0     0   \n",
              "3      0  0  0  0  0  0  0  0  0  0  ...     0     0     0     0     0     0   \n",
              "4      0  0  0  0  0  0  0  0  0  0  ...     0     0     0     0     0     0   \n",
              "...   .. .. .. .. .. .. .. .. .. ..  ...   ...   ...   ...   ...   ...   ...   \n",
              "26737  0  0  0  0  0  0  0  0  0  0  ...     0     0     0     0     0     0   \n",
              "26738  0  0  0  0  0  0  0  0  0  0  ...     0     0     0     0     0     0   \n",
              "26739  0  0  0  0  0  0  0  0  0  0  ...     0     0     0     0     0     0   \n",
              "26740  0  0  0  0  0  0  0  0  0  0  ...     0     0     0     0     0     0   \n",
              "26741  0  0  0  0  0  0  0  0  0  0  ...     0     0     0     0     0     0   \n",
              "\n",
              "       1499       subs  emoji_label  publish_time  \n",
              "0         0  1960000.0            0        202205  \n",
              "1         0   352000.0            1        202205  \n",
              "2         0   159000.0            0        202205  \n",
              "3         0   250000.0            0        202205  \n",
              "4         0   133000.0            0        202205  \n",
              "...     ...        ...          ...           ...  \n",
              "26737     0   102000.0            0        202002  \n",
              "26738     0      522.0            0        202002  \n",
              "26739     0      522.0            0        202002  \n",
              "26740     0  1070000.0            0        202002  \n",
              "26741     0      522.0            0        202002  \n",
              "\n",
              "[26742 rows x 1503 columns]"
            ]
          },
          "execution_count": 42,
          "metadata": {},
          "output_type": "execute_result"
        }
      ],
      "source": [
        "X3"
      ]
    },
    {
      "cell_type": "code",
      "execution_count": null,
      "metadata": {
        "colab": {
          "base_uri": "https://localhost:8080/"
        },
        "id": "eyB7Q55teUUB",
        "outputId": "a2afa546-7b49-4903-8333-a6f06352540a"
      },
      "outputs": [
        {
          "name": "stderr",
          "output_type": "stream",
          "text": [
            "/usr/local/lib/python3.7/dist-packages/sklearn/utils/validation.py:1692: FutureWarning: Feature names only support names that are all strings. Got feature names with dtypes: ['int', 'str']. An error will be raised in 1.2.\n",
            "  FutureWarning,\n",
            "/usr/local/lib/python3.7/dist-packages/sklearn/utils/validation.py:1692: FutureWarning: Feature names only support names that are all strings. Got feature names with dtypes: ['int', 'str']. An error will be raised in 1.2.\n",
            "  FutureWarning,\n"
          ]
        }
      ],
      "source": [
        "from sklearn.preprocessing import MaxAbsScaler\n",
        "max_scaler = MaxAbsScaler()\n",
        "\n",
        "X_sc3 = scaler.fit_transform(X3)"
      ]
    },
    {
      "cell_type": "code",
      "execution_count": null,
      "metadata": {
        "colab": {
          "base_uri": "https://localhost:8080/"
        },
        "id": "ZYPCwsNDeUUC",
        "outputId": "1702f587-a91a-4987-ccbe-3bd2d47bbf29"
      },
      "outputs": [
        {
          "data": {
            "text/plain": [
              "26742"
            ]
          },
          "execution_count": 52,
          "metadata": {},
          "output_type": "execute_result"
        }
      ],
      "source": [
        "len(X_sc3)"
      ]
    },
    {
      "cell_type": "code",
      "execution_count": null,
      "metadata": {
        "id": "loBga3r4eUUC"
      },
      "outputs": [],
      "source": [
        "from sklearn.model_selection import train_test_split\n",
        "X_train, X_test, y_train, y_test = train_test_split(X_sc3, y3, \n",
        "                                                    test_size=0.1, \n",
        "                                                    random_state=0, \n",
        "                                                    stratify=y3)"
      ]
    },
    {
      "cell_type": "code",
      "source": [
        "from sklearn.model_selection import train_test_split\n",
        "X_sc4 = max_scaler.fit_transform(X3)\n",
        "X_train2, X_test2, y_train2, y_test2 = train_test_split(X_sc4, y3, \n",
        "                                                    test_size=0.1, \n",
        "                                                    random_state=0, \n",
        "                                                    stratify=y3)"
      ],
      "metadata": {
        "colab": {
          "base_uri": "https://localhost:8080/"
        },
        "id": "m5TQcqweLFhX",
        "outputId": "26d0d7c6-3f37-42c7-d4bc-6d6989e4b4d0"
      },
      "execution_count": null,
      "outputs": [
        {
          "output_type": "stream",
          "name": "stderr",
          "text": [
            "/usr/local/lib/python3.7/dist-packages/sklearn/utils/validation.py:1692: FutureWarning: Feature names only support names that are all strings. Got feature names with dtypes: ['int', 'str']. An error will be raised in 1.2.\n",
            "  FutureWarning,\n",
            "/usr/local/lib/python3.7/dist-packages/sklearn/utils/validation.py:1692: FutureWarning: Feature names only support names that are all strings. Got feature names with dtypes: ['int', 'str']. An error will be raised in 1.2.\n",
            "  FutureWarning,\n"
          ]
        }
      ]
    },
    {
      "cell_type": "code",
      "execution_count": null,
      "metadata": {
        "colab": {
          "base_uri": "https://localhost:8080/"
        },
        "id": "7MIvCyKTeUUC",
        "outputId": "24d35323-66bd-4fda-ccbb-c5db0f767a33"
      },
      "outputs": [
        {
          "data": {
            "text/plain": [
              "0.7514018691588785"
            ]
          },
          "execution_count": 25,
          "metadata": {},
          "output_type": "execute_result"
        }
      ],
      "source": [
        "from sklearn.ensemble import RandomForestClassifier\n",
        "from sklearn.metrics import accuracy_score\n",
        "rnd_clf = RandomForestClassifier(n_estimators=100, max_features='sqrt', \n",
        "                                 max_depth = None, min_samples_split=2,\n",
        "                                 n_jobs=-1)\n",
        "rnd_clf.fit(X_train, y_train)\n",
        "y_rnd = rnd_clf.predict(X_test)\n",
        "accuracy_score(y_test, y_rnd)"
      ]
    },
    {
      "cell_type": "code",
      "execution_count": null,
      "metadata": {
        "colab": {
          "base_uri": "https://localhost:8080/"
        },
        "id": "8maltzmuh2vw",
        "outputId": "071ebac9-18a4-466c-869d-05adf80ebe54"
      },
      "outputs": [
        {
          "data": {
            "text/plain": [
              "0.7216533295422056"
            ]
          },
          "execution_count": 58,
          "metadata": {},
          "output_type": "execute_result"
        }
      ],
      "source": [
        "from sklearn.metrics import r2_score\n",
        "r2_score(y_test, y_rnd)"
      ]
    },
    {
      "cell_type": "code",
      "execution_count": null,
      "metadata": {
        "colab": {
          "base_uri": "https://localhost:8080/",
          "height": 223
        },
        "id": "Kdz1Jc7ez7yq",
        "outputId": "2a028f9d-2775-41d7-ab8d-5c9c5a390ced"
      },
      "outputs": [
        {
          "ename": "NameError",
          "evalue": "ignored",
          "output_type": "error",
          "traceback": [
            "\u001b[0;31m---------------------------------------------------------------------------\u001b[0m",
            "\u001b[0;31mNameError\u001b[0m                                 Traceback (most recent call last)",
            "\u001b[0;32m<ipython-input-22-fbb3929b237b>\u001b[0m in \u001b[0;36m<module>\u001b[0;34m()\u001b[0m\n\u001b[1;32m      4\u001b[0m \u001b[0mada_clf\u001b[0m\u001b[0;34m.\u001b[0m\u001b[0mfit\u001b[0m\u001b[0;34m(\u001b[0m\u001b[0mX_train\u001b[0m\u001b[0;34m,\u001b[0m \u001b[0my_train\u001b[0m\u001b[0;34m)\u001b[0m\u001b[0;34m\u001b[0m\u001b[0;34m\u001b[0m\u001b[0m\n\u001b[1;32m      5\u001b[0m \u001b[0my_ada\u001b[0m \u001b[0;34m=\u001b[0m \u001b[0mada_clf\u001b[0m\u001b[0;34m.\u001b[0m\u001b[0mpredict\u001b[0m\u001b[0;34m(\u001b[0m\u001b[0mX_test\u001b[0m\u001b[0;34m)\u001b[0m\u001b[0;34m\u001b[0m\u001b[0;34m\u001b[0m\u001b[0m\n\u001b[0;32m----> 6\u001b[0;31m \u001b[0maccuracy_score\u001b[0m\u001b[0;34m(\u001b[0m\u001b[0my_test\u001b[0m\u001b[0;34m,\u001b[0m \u001b[0my_ada\u001b[0m\u001b[0;34m)\u001b[0m\u001b[0;34m\u001b[0m\u001b[0;34m\u001b[0m\u001b[0m\n\u001b[0m\u001b[1;32m      7\u001b[0m \u001b[0mr2_score\u001b[0m\u001b[0;34m(\u001b[0m\u001b[0my_test\u001b[0m\u001b[0;34m,\u001b[0m \u001b[0my_ada\u001b[0m\u001b[0;34m)\u001b[0m\u001b[0;34m\u001b[0m\u001b[0;34m\u001b[0m\u001b[0m\n",
            "\u001b[0;31mNameError\u001b[0m: name 'accuracy_score' is not defined"
          ]
        }
      ],
      "source": [
        "from sklearn.ensemble import AdaBoostClassifier\n",
        "from sklearn.tree import DecisionTreeClassifier\n",
        "ada_clf = AdaBoostClassifier(DecisionTreeClassifier(), n_estimators=100)\n",
        "ada_clf.fit(X_train, y_train)\n",
        "y_ada = ada_clf.predict(X_test)"
      ]
    },
    {
      "cell_type": "code",
      "execution_count": null,
      "metadata": {
        "colab": {
          "base_uri": "https://localhost:8080/"
        },
        "id": "sTJtEX4v4ikJ",
        "outputId": "7daac701-b012-4f95-fb4a-075cc0e96579"
      },
      "outputs": [
        {
          "name": "stdout",
          "output_type": "stream",
          "text": [
            "0.7375700934579439 0.7141789291539727\n"
          ]
        }
      ],
      "source": [
        "from sklearn.metrics import accuracy_score, r2_score\n",
        "print(accuracy_score(y_test, y_ada), r2_score(y_test, y_ada))"
      ]
    },
    {
      "cell_type": "code",
      "execution_count": null,
      "metadata": {
        "colab": {
          "base_uri": "https://localhost:8080/"
        },
        "id": "cbYUzIHZ9fB4",
        "outputId": "ea134c92-a4db-463b-b986-c91707402c34"
      },
      "outputs": [
        {
          "name": "stdout",
          "output_type": "stream",
          "text": [
            "0.7476635514018691 0.7186635693869126\n"
          ]
        }
      ],
      "source": [
        "ada_clf2 = AdaBoostClassifier(DecisionTreeClassifier(), n_estimators=50)\n",
        "ada_clf2.fit(X_train, y_train)\n",
        "y_ada2 = ada_clf2.predict(X_test)\n",
        "print(accuracy_score(y_test, y_ada2), r2_score(y_test, y_ada2))"
      ]
    },
    {
      "cell_type": "code",
      "execution_count": null,
      "metadata": {
        "colab": {
          "background_save": true
        },
        "id": "JEQJ9DOn_aiY",
        "outputId": "58198be0-7e40-4108-bfb4-de5fd430b322"
      },
      "outputs": [
        {
          "name": "stdout",
          "output_type": "stream",
          "text": [
            "0.7465420560747663 0.7058076007191518\n"
          ]
        }
      ],
      "source": [
        "ada_clf3 = AdaBoostClassifier(DecisionTreeClassifier(), learning_rate = 0.5, n_estimators=50)\n",
        "ada_clf3.fit(X_train, y_train)\n",
        "y_ada3 = ada_clf3.predict(X_test)\n",
        "print(accuracy_score(y_test, y_ada3), r2_score(y_test, y_ada3))"
      ]
    },
    {
      "cell_type": "code",
      "source": [
        "ada_clf4 = AdaBoostClassifier(DecisionTreeClassifier(), n_estimators=50)\n",
        "ada_clf4.fit(X_train2, y_train2)\n",
        "y_ada4 = ada_clf4.predict(X_test2)\n",
        "print(accuracy_score(y_test2, y_ada4), r2_score(y_test2, y_ada4))"
      ],
      "metadata": {
        "colab": {
          "base_uri": "https://localhost:8080/"
        },
        "id": "D5gI2xV6LCrV",
        "outputId": "8f053707-fbd6-44a1-cf71-380c2629b006"
      },
      "execution_count": null,
      "outputs": [
        {
          "output_type": "stream",
          "name": "stdout",
          "text": [
            "0.742803738317757 0.7079004328278571\n"
          ]
        }
      ]
    },
    {
      "cell_type": "code",
      "execution_count": null,
      "metadata": {
        "colab": {
          "base_uri": "https://localhost:8080/"
        },
        "id": "_IIIpXao4_Dz",
        "outputId": "119b47de-66c7-4246-c156-5be478beebd6"
      },
      "outputs": [
        {
          "data": {
            "text/plain": [
              "0.6214963643398844"
            ]
          },
          "execution_count": 28,
          "metadata": {},
          "output_type": "execute_result"
        }
      ],
      "source": [
        "from sklearn.ensemble import GradientBoostingClassifier\n",
        "gb_clf = GradientBoostingClassifier(n_estimators=50)\n",
        "gb_clf.fit(X_train, y_train)\n",
        "y_gb = gb_clf.predict(X_test)\n",
        "accuracy_score(y_test, y_gb)\n",
        "r2_score(y_test, y_gb)"
      ]
    },
    {
      "cell_type": "code",
      "execution_count": null,
      "metadata": {
        "colab": {
          "base_uri": "https://localhost:8080/"
        },
        "id": "Decn0URS9Wqr",
        "outputId": "286d40d1-f9ab-49e3-d1fd-a30c8bba22de"
      },
      "outputs": [
        {
          "name": "stdout",
          "output_type": "stream",
          "text": [
            "0.6512149532710281 0.6214963643398844\n"
          ]
        }
      ],
      "source": [
        "print(accuracy_score(y_test, y_gb), r2_score(y_test, y_gb))"
      ]
    },
    {
      "cell_type": "code",
      "execution_count": null,
      "metadata": {
        "id": "l2HkX57qiDDA"
      },
      "outputs": [],
      "source": [
        "from gensim import corpora\n",
        "from gensim import models\n",
        "\n",
        "import pickle\n",
        "import numpy as np\n",
        "import warnings\n",
        "warnings.filterwarnings(action='ignore')\n",
        "\n",
        "def build_doc_word_matrix(docs):\n",
        "    dictionary = corpora.Dictionary(docs)\n",
        "    # 각 단어의 ID 정보를 얻음\n",
        "    corpus = []\n",
        "    for doc in docs:\n",
        "        bow = dictionary.doc2bow(doc) # 각 문서를 TF 정보를 이용해서 벡터로 변환\n",
        "        corpus.append(bow)\n",
        "\n",
        "    return corpus, dictionary"
      ]
    },
    {
      "cell_type": "code",
      "execution_count": null,
      "metadata": {
        "id": "eLcCmYq4ipNc"
      },
      "outputs": [],
      "source": [
        "def print_topic_words(model):\n",
        "    f = open('topic_results_test.txt','w')\n",
        "    for topic_id in range(model.num_topics):\n",
        "        word_probs = model.show_topic(topic_id, 2)\n",
        "        print(\"Topic ID: {}\".format(topic_id))\n",
        "        f.write(str(topic_id)+'\\n')\n",
        "        for word, prob in word_probs:\n",
        "            print(\"\\t{}\\t{}\".format(word, prob))\n",
        "            f.write(str(word)+'\\t'+str(prob)+'\\n')\n",
        "        print(\"\\n\")\n",
        "    f.close()"
      ]
    },
    {
      "cell_type": "code",
      "execution_count": null,
      "metadata": {
        "colab": {
          "base_uri": "https://localhost:8080/"
        },
        "id": "0fsL0PZlj7Ah",
        "outputId": "c770da2e-e24a-478c-cd5b-2888b9feb331"
      },
      "outputs": [
        {
          "data": {
            "text/plain": [
              "(6686, 11)"
            ]
          },
          "execution_count": 63,
          "metadata": {},
          "output_type": "execute_result"
        }
      ],
      "source": [
        "df_highviews = df_processed[df_processed['view_lv']==3]\n",
        "df_highviews.shape"
      ]
    },
    {
      "cell_type": "code",
      "execution_count": null,
      "metadata": {
        "colab": {
          "base_uri": "https://localhost:8080/"
        },
        "id": "yzdBBcPriqKv",
        "outputId": "473b1d8f-da32-4379-e275-78c0732565fb"
      },
      "outputs": [
        {
          "name": "stdout",
          "output_type": "stream",
          "text": [
            "Topic ID: 0\n",
            "\t브이\t0.10641777515411377\n",
            "\t로그\t0.10344487428665161\n",
            "\n",
            "\n",
            "Topic ID: 1\n",
            "\t먹방\t0.06760582327842712\n",
            "\t브이\t0.0469050258398056\n",
            "\n",
            "\n",
            "Topic ID: 2\n",
            "\t브이\t0.07204253226518631\n",
            "\t로그\t0.06523484736680984\n",
            "\n",
            "\n",
            "Topic ID: 3\n",
            "\t먹방\t0.03509318083524704\n",
            "\t공부\t0.018101409077644348\n",
            "\n",
            "\n"
          ]
        }
      ],
      "source": [
        "corpus, dictionary = build_doc_word_matrix(df_highviews['title_new'])\n",
        "lda_model = models.ldamodel.LdaModel(corpus, num_topics=4, id2word=dictionary)\n",
        "print_topic_words(lda_model)"
      ]
    },
    {
      "cell_type": "code",
      "execution_count": null,
      "metadata": {
        "colab": {
          "base_uri": "https://localhost:8080/",
          "height": 451
        },
        "id": "0lgSMcIpk3_E",
        "outputId": "f19abab1-261b-4ce0-e341-e82def75faed"
      },
      "outputs": [
        {
          "name": "stdout",
          "output_type": "stream",
          "text": [
            "4\n",
            "6\n",
            "8\n",
            "10\n",
            "12\n",
            "14\n",
            "16\n",
            "18\n",
            "20\n"
          ]
        },
        {
          "data": {
            "image/png": "[encoded data removed]",
            "text/plain": [
              "<Figure size 432x288 with 1 Axes>"
            ]
          },
          "metadata": {},
          "output_type": "display_data"
        }
      ],
      "source": [
        "### calculating log perplexity score to check optimal # of topics\n",
        "start1 = 2\n",
        "limit1 = 20\n",
        "step1 = 2\n",
        "perplexity_scores=[]\n",
        "topic_num = 2\n",
        "for num_topics in range(start1, limit1, step1):\n",
        "    model = models.ldamodel.LdaModel(corpus, num_topics=num_topics,\n",
        "                    id2word=dictionary,\n",
        "                    alpha='auto')\n",
        "    perplexity_scores.append(lda_model.log_perplexity(corpus))\n",
        "    topic_num += step1\n",
        "    print(topic_num)\n",
        "\n",
        "import matplotlib.pyplot as plt\n",
        "x = range(start1, limit1, step1)\n",
        "plt.plot(x, perplexity_scores)\n",
        "plt.xlabel(\"Num Topics\")\n",
        "plt.ylabel(\"Log Perplexity scores\")\n",
        "plt.legend((\"Log Perplexity\"), loc='best')\n",
        "plt.show()"
      ]
    },
    {
      "cell_type": "code",
      "execution_count": null,
      "metadata": {
        "colab": {
          "base_uri": "https://localhost:8080/"
        },
        "id": "EzQzg56ulRCV",
        "outputId": "b80a09fb-bde8-4eac-cecd-facf5dca8921"
      },
      "outputs": [
        {
          "name": "stdout",
          "output_type": "stream",
          "text": [
            "Looking in indexes: https://pypi.org/simple, https://us-python.pkg.dev/colab-wheels/public/simple/\n",
            "Collecting pyLDAvis\n",
            "  Downloading pyLDAvis-3.3.1.tar.gz (1.7 MB)\n",
            "\u001b[K     |████████████████████████████████| 1.7 MB 5.1 MB/s \n",
            "\u001b[?25h  Installing build dependencies ... \u001b[?25l\u001b[?25hdone\n",
            "  Getting requirements to build wheel ... \u001b[?25l\u001b[?25hdone\n",
            "  Installing backend dependencies ... \u001b[?25l\u001b[?25hdone\n",
            "    Preparing wheel metadata ... \u001b[?25l\u001b[?25hdone\n",
            "Requirement already satisfied: pandas>=1.2.0 in /usr/local/lib/python3.7/dist-packages (from pyLDAvis) (1.3.5)\n",
            "Requirement already satisfied: scikit-learn in /usr/local/lib/python3.7/dist-packages (from pyLDAvis) (1.0.2)\n",
            "Requirement already satisfied: future in /usr/local/lib/python3.7/dist-packages (from pyLDAvis) (0.16.0)\n",
            "Requirement already satisfied: scipy in /usr/local/lib/python3.7/dist-packages (from pyLDAvis) (1.4.1)\n",
            "Requirement already satisfied: sklearn in /usr/local/lib/python3.7/dist-packages (from pyLDAvis) (0.0)\n",
            "Collecting funcy\n",
            "  Downloading funcy-1.17-py2.py3-none-any.whl (33 kB)\n",
            "Requirement already satisfied: jinja2 in /usr/local/lib/python3.7/dist-packages (from pyLDAvis) (2.11.3)\n",
            "Requirement already satisfied: numpy>=1.20.0 in /usr/local/lib/python3.7/dist-packages (from pyLDAvis) (1.21.6)\n",
            "Requirement already satisfied: gensim in /usr/local/lib/python3.7/dist-packages (from pyLDAvis) (3.6.0)\n",
            "Requirement already satisfied: setuptools in /usr/local/lib/python3.7/dist-packages (from pyLDAvis) (57.4.0)\n",
            "Requirement already satisfied: joblib in /usr/local/lib/python3.7/dist-packages (from pyLDAvis) (1.1.0)\n",
            "Requirement already satisfied: numexpr in /usr/local/lib/python3.7/dist-packages (from pyLDAvis) (2.8.1)\n",
            "Requirement already satisfied: python-dateutil>=2.7.3 in /usr/local/lib/python3.7/dist-packages (from pandas>=1.2.0->pyLDAvis) (2.8.2)\n",
            "Requirement already satisfied: pytz>=2017.3 in /usr/local/lib/python3.7/dist-packages (from pandas>=1.2.0->pyLDAvis) (2022.1)\n",
            "Requirement already satisfied: six>=1.5 in /usr/local/lib/python3.7/dist-packages (from python-dateutil>=2.7.3->pandas>=1.2.0->pyLDAvis) (1.15.0)\n",
            "Requirement already satisfied: smart-open>=1.2.1 in /usr/local/lib/python3.7/dist-packages (from gensim->pyLDAvis) (6.0.0)\n",
            "Requirement already satisfied: MarkupSafe>=0.23 in /usr/local/lib/python3.7/dist-packages (from jinja2->pyLDAvis) (2.0.1)\n",
            "Requirement already satisfied: packaging in /usr/local/lib/python3.7/dist-packages (from numexpr->pyLDAvis) (21.3)\n",
            "Requirement already satisfied: pyparsing!=3.0.5,>=2.0.2 in /usr/local/lib/python3.7/dist-packages (from packaging->numexpr->pyLDAvis) (3.0.9)\n",
            "Requirement already satisfied: threadpoolctl>=2.0.0 in /usr/local/lib/python3.7/dist-packages (from scikit-learn->pyLDAvis) (3.1.0)\n",
            "Building wheels for collected packages: pyLDAvis\n",
            "  Building wheel for pyLDAvis (PEP 517) ... \u001b[?25l\u001b[?25hdone\n",
            "  Created wheel for pyLDAvis: filename=pyLDAvis-3.3.1-py2.py3-none-any.whl size=136898 sha256=f8fe6d73ebac44077d99cd5ae7500fa491c73a69d4622ce7d8fda3cc99001970\n",
            "  Stored in directory: /root/.cache/pip/wheels/c9/21/f6/17bcf2667e8a68532ba2fbf6d5c72fdf4c7f7d9abfa4852d2f\n",
            "Successfully built pyLDAvis\n",
            "Installing collected packages: funcy, pyLDAvis\n",
            "Successfully installed funcy-1.17 pyLDAvis-3.3.1\n"
          ]
        }
      ],
      "source": [
        "!pip install pyLDAvis"
      ]
    },
    {
      "cell_type": "code",
      "execution_count": null,
      "metadata": {
        "colab": {
          "base_uri": "https://localhost:8080/"
        },
        "id": "Yd5dWmxJlQPU",
        "outputId": "2543e1ee-284a-45a5-d08d-cc18e5cfc97b"
      },
      "outputs": [
        {
          "name": "stderr",
          "output_type": "stream",
          "text": [
            "/usr/local/lib/python3.7/dist-packages/past/types/oldstr.py:5: DeprecationWarning: Using or importing the ABCs from 'collections' instead of from 'collections.abc' is deprecated since Python 3.3,and in 3.9 it will stop working\n",
            "  from collections import Iterable\n"
          ]
        }
      ],
      "source": [
        "import pyLDAvis\n",
        "import pyLDAvis.gensim_models as gensimvis\n",
        "pyLDAvis.enable_notebook()\n",
        "\n",
        "prepared_data = gensimvis.prepare(lda_model, corpus, dictionary)\n",
        "pyLDAvis.display(prepared_data)\n",
        "pyLDAvis.save_html(prepared_data, 'LDAvis_2.html')"
      ]
    },
    {
      "cell_type": "code",
      "execution_count": null,
      "metadata": {
        "colab": {
          "base_uri": "https://localhost:8080/"
        },
        "id": "G07ozH4um00M",
        "outputId": "53be58e9-c07f-49d5-ab00-e431cbdf25dd"
      },
      "outputs": [
        {
          "name": "stdout",
          "output_type": "stream",
          "text": [
            "285\n",
            "1276\n",
            "3495\n",
            "349\n",
            "1281\n"
          ]
        }
      ],
      "source": [
        "print(df_highviews[df_highviews['label']==0]['label'].count()) #뷰티\n",
        "print(df_highviews[df_highviews['label']==1]['label'].count()) #운동\n",
        "print(df_highviews[df_highviews['label']==2]['label'].count()) #먹방\n",
        "print(df_highviews[df_highviews['label']==3]['label'].count()) #지식\n",
        "print(df_highviews[df_highviews['label']==4]['label'].count()) #브이로그"
      ]
    },
    {
      "cell_type": "code",
      "execution_count": null,
      "metadata": {
        "id": "aGZlfBAWi8KU"
      },
      "outputs": [],
      "source": [
        "topic_results=lda_model.get_document_topics(corpus, minimum_probability=0.0)\n",
        "topic_DTM =[]\n",
        "for k in range(len(topic_results)):\n",
        "    topic_vector = [prob for i, prob in topic_results[k]]\n",
        "    topic_DTM.append(topic_vector)\n",
        "topic_DTM = np.array(topic_DTM)"
      ]
    },
    {
      "cell_type": "code",
      "execution_count": null,
      "metadata": {
        "id": "hx7K0BBpkmuL"
      },
      "outputs": [],
      "source": [
        "from sklearn.cluster import KMeans\n",
        "kmeans = KMeans(n_clusters=5)\n",
        "clusters = kmeans.fit_predict(topic_DTM)"
      ]
    }
  ],
  "metadata": {
    "colab": {
      "collapsed_sections": [],
      "provenance": []
    },
    "kernelspec": {
      "display_name": "Python 3",
      "language": "python",
      "name": "python3"
    },
    "language_info": {
      "codemirror_mode": {
        "name": "ipython",
        "version": 3
      },
      "file_extension": ".py",
      "mimetype": "text/x-python",
      "name": "python",
      "nbconvert_exporter": "python",
      "pygments_lexer": "ipython3",
      "version": "3.8.5"
    }
  },
  "nbformat": 4,
  "nbformat_minor": 0
}